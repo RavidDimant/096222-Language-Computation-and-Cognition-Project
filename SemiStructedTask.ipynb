{
 "nbformat": 4,
 "nbformat_minor": 0,
 "metadata": {
  "colab": {
   "provenance": []
  },
  "kernelspec": {
   "name": "python3",
   "display_name": "Python 3"
  },
  "language_info": {
   "name": "python"
  },
  "widgets": {
   "application/vnd.jupyter.widget-state+json": {
    "64ac4892bf414863ad668b3997d33472": {
     "model_module": "@jupyter-widgets/controls",
     "model_name": "HBoxModel",
     "model_module_version": "1.5.0",
     "state": {
      "_dom_classes": [],
      "_model_module": "@jupyter-widgets/controls",
      "_model_module_version": "1.5.0",
      "_model_name": "HBoxModel",
      "_view_count": null,
      "_view_module": "@jupyter-widgets/controls",
      "_view_module_version": "1.5.0",
      "_view_name": "HBoxView",
      "box_style": "",
      "children": [
       "IPY_MODEL_70236895dc154fcf8265e5bd223f434a",
       "IPY_MODEL_93e1cca1e3f34ec79baab642f11d0046",
       "IPY_MODEL_de07c192df7f4770ab1c7b9f8659ddbf"
      ],
      "layout": "IPY_MODEL_6e1e586776f34f91b2daa36ec56dc903"
     }
    },
    "70236895dc154fcf8265e5bd223f434a": {
     "model_module": "@jupyter-widgets/controls",
     "model_name": "HTMLModel",
     "model_module_version": "1.5.0",
     "state": {
      "_dom_classes": [],
      "_model_module": "@jupyter-widgets/controls",
      "_model_module_version": "1.5.0",
      "_model_name": "HTMLModel",
      "_view_count": null,
      "_view_module": "@jupyter-widgets/controls",
      "_view_module_version": "1.5.0",
      "_view_name": "HTMLView",
      "description": "",
      "description_tooltip": null,
      "layout": "IPY_MODEL_2d55f18cd270487fa8daddfadf30fac9",
      "placeholder": "​",
      "style": "IPY_MODEL_6e50fb1b7be44e82b5b0e22c29a4a885",
      "value": "Downloading (…)olve/main/vocab.json: 100%"
     }
    },
    "93e1cca1e3f34ec79baab642f11d0046": {
     "model_module": "@jupyter-widgets/controls",
     "model_name": "FloatProgressModel",
     "model_module_version": "1.5.0",
     "state": {
      "_dom_classes": [],
      "_model_module": "@jupyter-widgets/controls",
      "_model_module_version": "1.5.0",
      "_model_name": "FloatProgressModel",
      "_view_count": null,
      "_view_module": "@jupyter-widgets/controls",
      "_view_module_version": "1.5.0",
      "_view_name": "ProgressView",
      "bar_style": "success",
      "description": "",
      "description_tooltip": null,
      "layout": "IPY_MODEL_b4d8d41fa9964d96a557b53507ea720b",
      "max": 815973,
      "min": 0,
      "orientation": "horizontal",
      "style": "IPY_MODEL_c16ac263ddca48fc96c34aec42ac627c",
      "value": 815973
     }
    },
    "de07c192df7f4770ab1c7b9f8659ddbf": {
     "model_module": "@jupyter-widgets/controls",
     "model_name": "HTMLModel",
     "model_module_version": "1.5.0",
     "state": {
      "_dom_classes": [],
      "_model_module": "@jupyter-widgets/controls",
      "_model_module_version": "1.5.0",
      "_model_name": "HTMLModel",
      "_view_count": null,
      "_view_module": "@jupyter-widgets/controls",
      "_view_module_version": "1.5.0",
      "_view_name": "HTMLView",
      "description": "",
      "description_tooltip": null,
      "layout": "IPY_MODEL_d573b018e0c54229892ae561f6a57437",
      "placeholder": "​",
      "style": "IPY_MODEL_f1d1ba8bc9f84726af341be7a9b41ec8",
      "value": " 816k/816k [00:00&lt;00:00, 4.62MB/s]"
     }
    },
    "6e1e586776f34f91b2daa36ec56dc903": {
     "model_module": "@jupyter-widgets/base",
     "model_name": "LayoutModel",
     "model_module_version": "1.2.0",
     "state": {
      "_model_module": "@jupyter-widgets/base",
      "_model_module_version": "1.2.0",
      "_model_name": "LayoutModel",
      "_view_count": null,
      "_view_module": "@jupyter-widgets/base",
      "_view_module_version": "1.2.0",
      "_view_name": "LayoutView",
      "align_content": null,
      "align_items": null,
      "align_self": null,
      "border": null,
      "bottom": null,
      "display": null,
      "flex": null,
      "flex_flow": null,
      "grid_area": null,
      "grid_auto_columns": null,
      "grid_auto_flow": null,
      "grid_auto_rows": null,
      "grid_column": null,
      "grid_gap": null,
      "grid_row": null,
      "grid_template_areas": null,
      "grid_template_columns": null,
      "grid_template_rows": null,
      "height": null,
      "justify_content": null,
      "justify_items": null,
      "left": null,
      "margin": null,
      "max_height": null,
      "max_width": null,
      "min_height": null,
      "min_width": null,
      "object_fit": null,
      "object_position": null,
      "order": null,
      "overflow": null,
      "overflow_x": null,
      "overflow_y": null,
      "padding": null,
      "right": null,
      "top": null,
      "visibility": null,
      "width": null
     }
    },
    "2d55f18cd270487fa8daddfadf30fac9": {
     "model_module": "@jupyter-widgets/base",
     "model_name": "LayoutModel",
     "model_module_version": "1.2.0",
     "state": {
      "_model_module": "@jupyter-widgets/base",
      "_model_module_version": "1.2.0",
      "_model_name": "LayoutModel",
      "_view_count": null,
      "_view_module": "@jupyter-widgets/base",
      "_view_module_version": "1.2.0",
      "_view_name": "LayoutView",
      "align_content": null,
      "align_items": null,
      "align_self": null,
      "border": null,
      "bottom": null,
      "display": null,
      "flex": null,
      "flex_flow": null,
      "grid_area": null,
      "grid_auto_columns": null,
      "grid_auto_flow": null,
      "grid_auto_rows": null,
      "grid_column": null,
      "grid_gap": null,
      "grid_row": null,
      "grid_template_areas": null,
      "grid_template_columns": null,
      "grid_template_rows": null,
      "height": null,
      "justify_content": null,
      "justify_items": null,
      "left": null,
      "margin": null,
      "max_height": null,
      "max_width": null,
      "min_height": null,
      "min_width": null,
      "object_fit": null,
      "object_position": null,
      "order": null,
      "overflow": null,
      "overflow_x": null,
      "overflow_y": null,
      "padding": null,
      "right": null,
      "top": null,
      "visibility": null,
      "width": null
     }
    },
    "6e50fb1b7be44e82b5b0e22c29a4a885": {
     "model_module": "@jupyter-widgets/controls",
     "model_name": "DescriptionStyleModel",
     "model_module_version": "1.5.0",
     "state": {
      "_model_module": "@jupyter-widgets/controls",
      "_model_module_version": "1.5.0",
      "_model_name": "DescriptionStyleModel",
      "_view_count": null,
      "_view_module": "@jupyter-widgets/base",
      "_view_module_version": "1.2.0",
      "_view_name": "StyleView",
      "description_width": ""
     }
    },
    "b4d8d41fa9964d96a557b53507ea720b": {
     "model_module": "@jupyter-widgets/base",
     "model_name": "LayoutModel",
     "model_module_version": "1.2.0",
     "state": {
      "_model_module": "@jupyter-widgets/base",
      "_model_module_version": "1.2.0",
      "_model_name": "LayoutModel",
      "_view_count": null,
      "_view_module": "@jupyter-widgets/base",
      "_view_module_version": "1.2.0",
      "_view_name": "LayoutView",
      "align_content": null,
      "align_items": null,
      "align_self": null,
      "border": null,
      "bottom": null,
      "display": null,
      "flex": null,
      "flex_flow": null,
      "grid_area": null,
      "grid_auto_columns": null,
      "grid_auto_flow": null,
      "grid_auto_rows": null,
      "grid_column": null,
      "grid_gap": null,
      "grid_row": null,
      "grid_template_areas": null,
      "grid_template_columns": null,
      "grid_template_rows": null,
      "height": null,
      "justify_content": null,
      "justify_items": null,
      "left": null,
      "margin": null,
      "max_height": null,
      "max_width": null,
      "min_height": null,
      "min_width": null,
      "object_fit": null,
      "object_position": null,
      "order": null,
      "overflow": null,
      "overflow_x": null,
      "overflow_y": null,
      "padding": null,
      "right": null,
      "top": null,
      "visibility": null,
      "width": null
     }
    },
    "c16ac263ddca48fc96c34aec42ac627c": {
     "model_module": "@jupyter-widgets/controls",
     "model_name": "ProgressStyleModel",
     "model_module_version": "1.5.0",
     "state": {
      "_model_module": "@jupyter-widgets/controls",
      "_model_module_version": "1.5.0",
      "_model_name": "ProgressStyleModel",
      "_view_count": null,
      "_view_module": "@jupyter-widgets/base",
      "_view_module_version": "1.2.0",
      "_view_name": "StyleView",
      "bar_color": null,
      "description_width": ""
     }
    },
    "d573b018e0c54229892ae561f6a57437": {
     "model_module": "@jupyter-widgets/base",
     "model_name": "LayoutModel",
     "model_module_version": "1.2.0",
     "state": {
      "_model_module": "@jupyter-widgets/base",
      "_model_module_version": "1.2.0",
      "_model_name": "LayoutModel",
      "_view_count": null,
      "_view_module": "@jupyter-widgets/base",
      "_view_module_version": "1.2.0",
      "_view_name": "LayoutView",
      "align_content": null,
      "align_items": null,
      "align_self": null,
      "border": null,
      "bottom": null,
      "display": null,
      "flex": null,
      "flex_flow": null,
      "grid_area": null,
      "grid_auto_columns": null,
      "grid_auto_flow": null,
      "grid_auto_rows": null,
      "grid_column": null,
      "grid_gap": null,
      "grid_row": null,
      "grid_template_areas": null,
      "grid_template_columns": null,
      "grid_template_rows": null,
      "height": null,
      "justify_content": null,
      "justify_items": null,
      "left": null,
      "margin": null,
      "max_height": null,
      "max_width": null,
      "min_height": null,
      "min_width": null,
      "object_fit": null,
      "object_position": null,
      "order": null,
      "overflow": null,
      "overflow_x": null,
      "overflow_y": null,
      "padding": null,
      "right": null,
      "top": null,
      "visibility": null,
      "width": null
     }
    },
    "f1d1ba8bc9f84726af341be7a9b41ec8": {
     "model_module": "@jupyter-widgets/controls",
     "model_name": "DescriptionStyleModel",
     "model_module_version": "1.5.0",
     "state": {
      "_model_module": "@jupyter-widgets/controls",
      "_model_module_version": "1.5.0",
      "_model_name": "DescriptionStyleModel",
      "_view_count": null,
      "_view_module": "@jupyter-widgets/base",
      "_view_module_version": "1.2.0",
      "_view_name": "StyleView",
      "description_width": ""
     }
    },
    "300d5771017b491b9646c979ba776579": {
     "model_module": "@jupyter-widgets/controls",
     "model_name": "HBoxModel",
     "model_module_version": "1.5.0",
     "state": {
      "_dom_classes": [],
      "_model_module": "@jupyter-widgets/controls",
      "_model_module_version": "1.5.0",
      "_model_name": "HBoxModel",
      "_view_count": null,
      "_view_module": "@jupyter-widgets/controls",
      "_view_module_version": "1.5.0",
      "_view_name": "HBoxView",
      "box_style": "",
      "children": [
       "IPY_MODEL_12e6974418be4f7ebb02bba2dea9ff52",
       "IPY_MODEL_80f2d2f94e704517b4763899dc5d66b5",
       "IPY_MODEL_7eed576c4a444c06b40fa20b5bf1e057"
      ],
      "layout": "IPY_MODEL_cd0fb340086e44e9a0d46fafd721d3b5"
     }
    },
    "12e6974418be4f7ebb02bba2dea9ff52": {
     "model_module": "@jupyter-widgets/controls",
     "model_name": "HTMLModel",
     "model_module_version": "1.5.0",
     "state": {
      "_dom_classes": [],
      "_model_module": "@jupyter-widgets/controls",
      "_model_module_version": "1.5.0",
      "_model_name": "HTMLModel",
      "_view_count": null,
      "_view_module": "@jupyter-widgets/controls",
      "_view_module_version": "1.5.0",
      "_view_name": "HTMLView",
      "description": "",
      "description_tooltip": null,
      "layout": "IPY_MODEL_b284865deabf46389b09e60bf3056972",
      "placeholder": "​",
      "style": "IPY_MODEL_a2c4675188f244af9ef1fda114a6b3af",
      "value": "Downloading (…)olve/main/merges.txt: 100%"
     }
    },
    "80f2d2f94e704517b4763899dc5d66b5": {
     "model_module": "@jupyter-widgets/controls",
     "model_name": "FloatProgressModel",
     "model_module_version": "1.5.0",
     "state": {
      "_dom_classes": [],
      "_model_module": "@jupyter-widgets/controls",
      "_model_module_version": "1.5.0",
      "_model_name": "FloatProgressModel",
      "_view_count": null,
      "_view_module": "@jupyter-widgets/controls",
      "_view_module_version": "1.5.0",
      "_view_name": "ProgressView",
      "bar_style": "success",
      "description": "",
      "description_tooltip": null,
      "layout": "IPY_MODEL_6153d049304b48278e8c97377ac7bb5f",
      "max": 458495,
      "min": 0,
      "orientation": "horizontal",
      "style": "IPY_MODEL_5596a71de7c248dfb2072ab786ac1894",
      "value": 458495
     }
    },
    "7eed576c4a444c06b40fa20b5bf1e057": {
     "model_module": "@jupyter-widgets/controls",
     "model_name": "HTMLModel",
     "model_module_version": "1.5.0",
     "state": {
      "_dom_classes": [],
      "_model_module": "@jupyter-widgets/controls",
      "_model_module_version": "1.5.0",
      "_model_name": "HTMLModel",
      "_view_count": null,
      "_view_module": "@jupyter-widgets/controls",
      "_view_module_version": "1.5.0",
      "_view_name": "HTMLView",
      "description": "",
      "description_tooltip": null,
      "layout": "IPY_MODEL_e043fde8d87d4b90a66edad4dffdf1fc",
      "placeholder": "​",
      "style": "IPY_MODEL_3c5510b2d76e44d09a167cf1d7554241",
      "value": " 458k/458k [00:00&lt;00:00, 3.28MB/s]"
     }
    },
    "cd0fb340086e44e9a0d46fafd721d3b5": {
     "model_module": "@jupyter-widgets/base",
     "model_name": "LayoutModel",
     "model_module_version": "1.2.0",
     "state": {
      "_model_module": "@jupyter-widgets/base",
      "_model_module_version": "1.2.0",
      "_model_name": "LayoutModel",
      "_view_count": null,
      "_view_module": "@jupyter-widgets/base",
      "_view_module_version": "1.2.0",
      "_view_name": "LayoutView",
      "align_content": null,
      "align_items": null,
      "align_self": null,
      "border": null,
      "bottom": null,
      "display": null,
      "flex": null,
      "flex_flow": null,
      "grid_area": null,
      "grid_auto_columns": null,
      "grid_auto_flow": null,
      "grid_auto_rows": null,
      "grid_column": null,
      "grid_gap": null,
      "grid_row": null,
      "grid_template_areas": null,
      "grid_template_columns": null,
      "grid_template_rows": null,
      "height": null,
      "justify_content": null,
      "justify_items": null,
      "left": null,
      "margin": null,
      "max_height": null,
      "max_width": null,
      "min_height": null,
      "min_width": null,
      "object_fit": null,
      "object_position": null,
      "order": null,
      "overflow": null,
      "overflow_x": null,
      "overflow_y": null,
      "padding": null,
      "right": null,
      "top": null,
      "visibility": null,
      "width": null
     }
    },
    "b284865deabf46389b09e60bf3056972": {
     "model_module": "@jupyter-widgets/base",
     "model_name": "LayoutModel",
     "model_module_version": "1.2.0",
     "state": {
      "_model_module": "@jupyter-widgets/base",
      "_model_module_version": "1.2.0",
      "_model_name": "LayoutModel",
      "_view_count": null,
      "_view_module": "@jupyter-widgets/base",
      "_view_module_version": "1.2.0",
      "_view_name": "LayoutView",
      "align_content": null,
      "align_items": null,
      "align_self": null,
      "border": null,
      "bottom": null,
      "display": null,
      "flex": null,
      "flex_flow": null,
      "grid_area": null,
      "grid_auto_columns": null,
      "grid_auto_flow": null,
      "grid_auto_rows": null,
      "grid_column": null,
      "grid_gap": null,
      "grid_row": null,
      "grid_template_areas": null,
      "grid_template_columns": null,
      "grid_template_rows": null,
      "height": null,
      "justify_content": null,
      "justify_items": null,
      "left": null,
      "margin": null,
      "max_height": null,
      "max_width": null,
      "min_height": null,
      "min_width": null,
      "object_fit": null,
      "object_position": null,
      "order": null,
      "overflow": null,
      "overflow_x": null,
      "overflow_y": null,
      "padding": null,
      "right": null,
      "top": null,
      "visibility": null,
      "width": null
     }
    },
    "a2c4675188f244af9ef1fda114a6b3af": {
     "model_module": "@jupyter-widgets/controls",
     "model_name": "DescriptionStyleModel",
     "model_module_version": "1.5.0",
     "state": {
      "_model_module": "@jupyter-widgets/controls",
      "_model_module_version": "1.5.0",
      "_model_name": "DescriptionStyleModel",
      "_view_count": null,
      "_view_module": "@jupyter-widgets/base",
      "_view_module_version": "1.2.0",
      "_view_name": "StyleView",
      "description_width": ""
     }
    },
    "6153d049304b48278e8c97377ac7bb5f": {
     "model_module": "@jupyter-widgets/base",
     "model_name": "LayoutModel",
     "model_module_version": "1.2.0",
     "state": {
      "_model_module": "@jupyter-widgets/base",
      "_model_module_version": "1.2.0",
      "_model_name": "LayoutModel",
      "_view_count": null,
      "_view_module": "@jupyter-widgets/base",
      "_view_module_version": "1.2.0",
      "_view_name": "LayoutView",
      "align_content": null,
      "align_items": null,
      "align_self": null,
      "border": null,
      "bottom": null,
      "display": null,
      "flex": null,
      "flex_flow": null,
      "grid_area": null,
      "grid_auto_columns": null,
      "grid_auto_flow": null,
      "grid_auto_rows": null,
      "grid_column": null,
      "grid_gap": null,
      "grid_row": null,
      "grid_template_areas": null,
      "grid_template_columns": null,
      "grid_template_rows": null,
      "height": null,
      "justify_content": null,
      "justify_items": null,
      "left": null,
      "margin": null,
      "max_height": null,
      "max_width": null,
      "min_height": null,
      "min_width": null,
      "object_fit": null,
      "object_position": null,
      "order": null,
      "overflow": null,
      "overflow_x": null,
      "overflow_y": null,
      "padding": null,
      "right": null,
      "top": null,
      "visibility": null,
      "width": null
     }
    },
    "5596a71de7c248dfb2072ab786ac1894": {
     "model_module": "@jupyter-widgets/controls",
     "model_name": "ProgressStyleModel",
     "model_module_version": "1.5.0",
     "state": {
      "_model_module": "@jupyter-widgets/controls",
      "_model_module_version": "1.5.0",
      "_model_name": "ProgressStyleModel",
      "_view_count": null,
      "_view_module": "@jupyter-widgets/base",
      "_view_module_version": "1.2.0",
      "_view_name": "StyleView",
      "bar_color": null,
      "description_width": ""
     }
    },
    "e043fde8d87d4b90a66edad4dffdf1fc": {
     "model_module": "@jupyter-widgets/base",
     "model_name": "LayoutModel",
     "model_module_version": "1.2.0",
     "state": {
      "_model_module": "@jupyter-widgets/base",
      "_model_module_version": "1.2.0",
      "_model_name": "LayoutModel",
      "_view_count": null,
      "_view_module": "@jupyter-widgets/base",
      "_view_module_version": "1.2.0",
      "_view_name": "LayoutView",
      "align_content": null,
      "align_items": null,
      "align_self": null,
      "border": null,
      "bottom": null,
      "display": null,
      "flex": null,
      "flex_flow": null,
      "grid_area": null,
      "grid_auto_columns": null,
      "grid_auto_flow": null,
      "grid_auto_rows": null,
      "grid_column": null,
      "grid_gap": null,
      "grid_row": null,
      "grid_template_areas": null,
      "grid_template_columns": null,
      "grid_template_rows": null,
      "height": null,
      "justify_content": null,
      "justify_items": null,
      "left": null,
      "margin": null,
      "max_height": null,
      "max_width": null,
      "min_height": null,
      "min_width": null,
      "object_fit": null,
      "object_position": null,
      "order": null,
      "overflow": null,
      "overflow_x": null,
      "overflow_y": null,
      "padding": null,
      "right": null,
      "top": null,
      "visibility": null,
      "width": null
     }
    },
    "3c5510b2d76e44d09a167cf1d7554241": {
     "model_module": "@jupyter-widgets/controls",
     "model_name": "DescriptionStyleModel",
     "model_module_version": "1.5.0",
     "state": {
      "_model_module": "@jupyter-widgets/controls",
      "_model_module_version": "1.5.0",
      "_model_name": "DescriptionStyleModel",
      "_view_count": null,
      "_view_module": "@jupyter-widgets/base",
      "_view_module_version": "1.2.0",
      "_view_name": "StyleView",
      "description_width": ""
     }
    },
    "9976265e970649278c1a349e80187f58": {
     "model_module": "@jupyter-widgets/controls",
     "model_name": "HBoxModel",
     "model_module_version": "1.5.0",
     "state": {
      "_dom_classes": [],
      "_model_module": "@jupyter-widgets/controls",
      "_model_module_version": "1.5.0",
      "_model_name": "HBoxModel",
      "_view_count": null,
      "_view_module": "@jupyter-widgets/controls",
      "_view_module_version": "1.5.0",
      "_view_name": "HBoxView",
      "box_style": "",
      "children": [
       "IPY_MODEL_06e54eb95a2c4ffb8b72a76c24871291",
       "IPY_MODEL_b4259057eaad4e1e9c8770caada5426f",
       "IPY_MODEL_e170c4bda1b3415eb5ec1f5e46a7dc8a"
      ],
      "layout": "IPY_MODEL_07a8606dd9674aa2a17087a396653a3f"
     }
    },
    "06e54eb95a2c4ffb8b72a76c24871291": {
     "model_module": "@jupyter-widgets/controls",
     "model_name": "HTMLModel",
     "model_module_version": "1.5.0",
     "state": {
      "_dom_classes": [],
      "_model_module": "@jupyter-widgets/controls",
      "_model_module_version": "1.5.0",
      "_model_name": "HTMLModel",
      "_view_count": null,
      "_view_module": "@jupyter-widgets/controls",
      "_view_module_version": "1.5.0",
      "_view_name": "HTMLView",
      "description": "",
      "description_tooltip": null,
      "layout": "IPY_MODEL_10b15bea00584ee5b9e376778db5b63c",
      "placeholder": "​",
      "style": "IPY_MODEL_7932fb51a66442ddba69e1f7d34cff39",
      "value": "Downloading (…)lve/main/config.json: 100%"
     }
    },
    "b4259057eaad4e1e9c8770caada5426f": {
     "model_module": "@jupyter-widgets/controls",
     "model_name": "FloatProgressModel",
     "model_module_version": "1.5.0",
     "state": {
      "_dom_classes": [],
      "_model_module": "@jupyter-widgets/controls",
      "_model_module_version": "1.5.0",
      "_model_name": "FloatProgressModel",
      "_view_count": null,
      "_view_module": "@jupyter-widgets/controls",
      "_view_module_version": "1.5.0",
      "_view_name": "ProgressView",
      "bar_style": "success",
      "description": "",
      "description_tooltip": null,
      "layout": "IPY_MODEL_8e70641ebf8e4a7c912a97fd51e95f06",
      "max": 656,
      "min": 0,
      "orientation": "horizontal",
      "style": "IPY_MODEL_583ad7c10d9b4c7ca09befc0dd5b0de0",
      "value": 656
     }
    },
    "e170c4bda1b3415eb5ec1f5e46a7dc8a": {
     "model_module": "@jupyter-widgets/controls",
     "model_name": "HTMLModel",
     "model_module_version": "1.5.0",
     "state": {
      "_dom_classes": [],
      "_model_module": "@jupyter-widgets/controls",
      "_model_module_version": "1.5.0",
      "_model_name": "HTMLModel",
      "_view_count": null,
      "_view_module": "@jupyter-widgets/controls",
      "_view_module_version": "1.5.0",
      "_view_name": "HTMLView",
      "description": "",
      "description_tooltip": null,
      "layout": "IPY_MODEL_d543b1d10d504407919d92fe1105d76c",
      "placeholder": "​",
      "style": "IPY_MODEL_69cdf7aaffd94e7c830c6760ed3d4b36",
      "value": " 656/656 [00:00&lt;00:00, 9.02kB/s]"
     }
    },
    "07a8606dd9674aa2a17087a396653a3f": {
     "model_module": "@jupyter-widgets/base",
     "model_name": "LayoutModel",
     "model_module_version": "1.2.0",
     "state": {
      "_model_module": "@jupyter-widgets/base",
      "_model_module_version": "1.2.0",
      "_model_name": "LayoutModel",
      "_view_count": null,
      "_view_module": "@jupyter-widgets/base",
      "_view_module_version": "1.2.0",
      "_view_name": "LayoutView",
      "align_content": null,
      "align_items": null,
      "align_self": null,
      "border": null,
      "bottom": null,
      "display": null,
      "flex": null,
      "flex_flow": null,
      "grid_area": null,
      "grid_auto_columns": null,
      "grid_auto_flow": null,
      "grid_auto_rows": null,
      "grid_column": null,
      "grid_gap": null,
      "grid_row": null,
      "grid_template_areas": null,
      "grid_template_columns": null,
      "grid_template_rows": null,
      "height": null,
      "justify_content": null,
      "justify_items": null,
      "left": null,
      "margin": null,
      "max_height": null,
      "max_width": null,
      "min_height": null,
      "min_width": null,
      "object_fit": null,
      "object_position": null,
      "order": null,
      "overflow": null,
      "overflow_x": null,
      "overflow_y": null,
      "padding": null,
      "right": null,
      "top": null,
      "visibility": null,
      "width": null
     }
    },
    "10b15bea00584ee5b9e376778db5b63c": {
     "model_module": "@jupyter-widgets/base",
     "model_name": "LayoutModel",
     "model_module_version": "1.2.0",
     "state": {
      "_model_module": "@jupyter-widgets/base",
      "_model_module_version": "1.2.0",
      "_model_name": "LayoutModel",
      "_view_count": null,
      "_view_module": "@jupyter-widgets/base",
      "_view_module_version": "1.2.0",
      "_view_name": "LayoutView",
      "align_content": null,
      "align_items": null,
      "align_self": null,
      "border": null,
      "bottom": null,
      "display": null,
      "flex": null,
      "flex_flow": null,
      "grid_area": null,
      "grid_auto_columns": null,
      "grid_auto_flow": null,
      "grid_auto_rows": null,
      "grid_column": null,
      "grid_gap": null,
      "grid_row": null,
      "grid_template_areas": null,
      "grid_template_columns": null,
      "grid_template_rows": null,
      "height": null,
      "justify_content": null,
      "justify_items": null,
      "left": null,
      "margin": null,
      "max_height": null,
      "max_width": null,
      "min_height": null,
      "min_width": null,
      "object_fit": null,
      "object_position": null,
      "order": null,
      "overflow": null,
      "overflow_x": null,
      "overflow_y": null,
      "padding": null,
      "right": null,
      "top": null,
      "visibility": null,
      "width": null
     }
    },
    "7932fb51a66442ddba69e1f7d34cff39": {
     "model_module": "@jupyter-widgets/controls",
     "model_name": "DescriptionStyleModel",
     "model_module_version": "1.5.0",
     "state": {
      "_model_module": "@jupyter-widgets/controls",
      "_model_module_version": "1.5.0",
      "_model_name": "DescriptionStyleModel",
      "_view_count": null,
      "_view_module": "@jupyter-widgets/base",
      "_view_module_version": "1.2.0",
      "_view_name": "StyleView",
      "description_width": ""
     }
    },
    "8e70641ebf8e4a7c912a97fd51e95f06": {
     "model_module": "@jupyter-widgets/base",
     "model_name": "LayoutModel",
     "model_module_version": "1.2.0",
     "state": {
      "_model_module": "@jupyter-widgets/base",
      "_model_module_version": "1.2.0",
      "_model_name": "LayoutModel",
      "_view_count": null,
      "_view_module": "@jupyter-widgets/base",
      "_view_module_version": "1.2.0",
      "_view_name": "LayoutView",
      "align_content": null,
      "align_items": null,
      "align_self": null,
      "border": null,
      "bottom": null,
      "display": null,
      "flex": null,
      "flex_flow": null,
      "grid_area": null,
      "grid_auto_columns": null,
      "grid_auto_flow": null,
      "grid_auto_rows": null,
      "grid_column": null,
      "grid_gap": null,
      "grid_row": null,
      "grid_template_areas": null,
      "grid_template_columns": null,
      "grid_template_rows": null,
      "height": null,
      "justify_content": null,
      "justify_items": null,
      "left": null,
      "margin": null,
      "max_height": null,
      "max_width": null,
      "min_height": null,
      "min_width": null,
      "object_fit": null,
      "object_position": null,
      "order": null,
      "overflow": null,
      "overflow_x": null,
      "overflow_y": null,
      "padding": null,
      "right": null,
      "top": null,
      "visibility": null,
      "width": null
     }
    },
    "583ad7c10d9b4c7ca09befc0dd5b0de0": {
     "model_module": "@jupyter-widgets/controls",
     "model_name": "ProgressStyleModel",
     "model_module_version": "1.5.0",
     "state": {
      "_model_module": "@jupyter-widgets/controls",
      "_model_module_version": "1.5.0",
      "_model_name": "ProgressStyleModel",
      "_view_count": null,
      "_view_module": "@jupyter-widgets/base",
      "_view_module_version": "1.2.0",
      "_view_name": "StyleView",
      "bar_color": null,
      "description_width": ""
     }
    },
    "d543b1d10d504407919d92fe1105d76c": {
     "model_module": "@jupyter-widgets/base",
     "model_name": "LayoutModel",
     "model_module_version": "1.2.0",
     "state": {
      "_model_module": "@jupyter-widgets/base",
      "_model_module_version": "1.2.0",
      "_model_name": "LayoutModel",
      "_view_count": null,
      "_view_module": "@jupyter-widgets/base",
      "_view_module_version": "1.2.0",
      "_view_name": "LayoutView",
      "align_content": null,
      "align_items": null,
      "align_self": null,
      "border": null,
      "bottom": null,
      "display": null,
      "flex": null,
      "flex_flow": null,
      "grid_area": null,
      "grid_auto_columns": null,
      "grid_auto_flow": null,
      "grid_auto_rows": null,
      "grid_column": null,
      "grid_gap": null,
      "grid_row": null,
      "grid_template_areas": null,
      "grid_template_columns": null,
      "grid_template_rows": null,
      "height": null,
      "justify_content": null,
      "justify_items": null,
      "left": null,
      "margin": null,
      "max_height": null,
      "max_width": null,
      "min_height": null,
      "min_width": null,
      "object_fit": null,
      "object_position": null,
      "order": null,
      "overflow": null,
      "overflow_x": null,
      "overflow_y": null,
      "padding": null,
      "right": null,
      "top": null,
      "visibility": null,
      "width": null
     }
    },
    "69cdf7aaffd94e7c830c6760ed3d4b36": {
     "model_module": "@jupyter-widgets/controls",
     "model_name": "DescriptionStyleModel",
     "model_module_version": "1.5.0",
     "state": {
      "_model_module": "@jupyter-widgets/controls",
      "_model_module_version": "1.5.0",
      "_model_name": "DescriptionStyleModel",
      "_view_count": null,
      "_view_module": "@jupyter-widgets/base",
      "_view_module_version": "1.2.0",
      "_view_name": "StyleView",
      "description_width": ""
     }
    },
    "e2cb87c5920245b88f9a9204a77d13c0": {
     "model_module": "@jupyter-widgets/controls",
     "model_name": "HBoxModel",
     "model_module_version": "1.5.0",
     "state": {
      "_dom_classes": [],
      "_model_module": "@jupyter-widgets/controls",
      "_model_module_version": "1.5.0",
      "_model_name": "HBoxModel",
      "_view_count": null,
      "_view_module": "@jupyter-widgets/controls",
      "_view_module_version": "1.5.0",
      "_view_name": "HBoxView",
      "box_style": "",
      "children": [
       "IPY_MODEL_64248f8b93cf428c9484d93e19f46e62",
       "IPY_MODEL_b9e247e11f984b36aae70b7276ab8bed",
       "IPY_MODEL_f71490aaeb044d03a852241bf6ded637"
      ],
      "layout": "IPY_MODEL_a7681704ef4c414d8d67a6b6a1ac0ec2"
     }
    },
    "64248f8b93cf428c9484d93e19f46e62": {
     "model_module": "@jupyter-widgets/controls",
     "model_name": "HTMLModel",
     "model_module_version": "1.5.0",
     "state": {
      "_dom_classes": [],
      "_model_module": "@jupyter-widgets/controls",
      "_model_module_version": "1.5.0",
      "_model_name": "HTMLModel",
      "_view_count": null,
      "_view_module": "@jupyter-widgets/controls",
      "_view_module_version": "1.5.0",
      "_view_name": "HTMLView",
      "description": "",
      "description_tooltip": null,
      "layout": "IPY_MODEL_24d22f32fc5543bb8d75ec7fd81e9468",
      "placeholder": "​",
      "style": "IPY_MODEL_ad40076220284732b948c942f0ed320d",
      "value": "Downloading model.safetensors: 100%"
     }
    },
    "b9e247e11f984b36aae70b7276ab8bed": {
     "model_module": "@jupyter-widgets/controls",
     "model_name": "FloatProgressModel",
     "model_module_version": "1.5.0",
     "state": {
      "_dom_classes": [],
      "_model_module": "@jupyter-widgets/controls",
      "_model_module_version": "1.5.0",
      "_model_name": "FloatProgressModel",
      "_view_count": null,
      "_view_module": "@jupyter-widgets/controls",
      "_view_module_version": "1.5.0",
      "_view_name": "ProgressView",
      "bar_style": "success",
      "description": "",
      "description_tooltip": null,
      "layout": "IPY_MODEL_f23443d4ccbe43a38c043c67ddaf24d0",
      "max": 478736214,
      "min": 0,
      "orientation": "horizontal",
      "style": "IPY_MODEL_4fac5cd0221c4dae8621934cb5067082",
      "value": 478736214
     }
    },
    "f71490aaeb044d03a852241bf6ded637": {
     "model_module": "@jupyter-widgets/controls",
     "model_name": "HTMLModel",
     "model_module_version": "1.5.0",
     "state": {
      "_dom_classes": [],
      "_model_module": "@jupyter-widgets/controls",
      "_model_module_version": "1.5.0",
      "_model_name": "HTMLModel",
      "_view_count": null,
      "_view_module": "@jupyter-widgets/controls",
      "_view_module_version": "1.5.0",
      "_view_name": "HTMLView",
      "description": "",
      "description_tooltip": null,
      "layout": "IPY_MODEL_bda1307d09e04856a1583f819e9e0893",
      "placeholder": "​",
      "style": "IPY_MODEL_dd51d9e1f06f43cd9722bfc8de2fea5b",
      "value": " 479M/479M [00:08&lt;00:00, 52.0MB/s]"
     }
    },
    "a7681704ef4c414d8d67a6b6a1ac0ec2": {
     "model_module": "@jupyter-widgets/base",
     "model_name": "LayoutModel",
     "model_module_version": "1.2.0",
     "state": {
      "_model_module": "@jupyter-widgets/base",
      "_model_module_version": "1.2.0",
      "_model_name": "LayoutModel",
      "_view_count": null,
      "_view_module": "@jupyter-widgets/base",
      "_view_module_version": "1.2.0",
      "_view_name": "LayoutView",
      "align_content": null,
      "align_items": null,
      "align_self": null,
      "border": null,
      "bottom": null,
      "display": null,
      "flex": null,
      "flex_flow": null,
      "grid_area": null,
      "grid_auto_columns": null,
      "grid_auto_flow": null,
      "grid_auto_rows": null,
      "grid_column": null,
      "grid_gap": null,
      "grid_row": null,
      "grid_template_areas": null,
      "grid_template_columns": null,
      "grid_template_rows": null,
      "height": null,
      "justify_content": null,
      "justify_items": null,
      "left": null,
      "margin": null,
      "max_height": null,
      "max_width": null,
      "min_height": null,
      "min_width": null,
      "object_fit": null,
      "object_position": null,
      "order": null,
      "overflow": null,
      "overflow_x": null,
      "overflow_y": null,
      "padding": null,
      "right": null,
      "top": null,
      "visibility": null,
      "width": null
     }
    },
    "24d22f32fc5543bb8d75ec7fd81e9468": {
     "model_module": "@jupyter-widgets/base",
     "model_name": "LayoutModel",
     "model_module_version": "1.2.0",
     "state": {
      "_model_module": "@jupyter-widgets/base",
      "_model_module_version": "1.2.0",
      "_model_name": "LayoutModel",
      "_view_count": null,
      "_view_module": "@jupyter-widgets/base",
      "_view_module_version": "1.2.0",
      "_view_name": "LayoutView",
      "align_content": null,
      "align_items": null,
      "align_self": null,
      "border": null,
      "bottom": null,
      "display": null,
      "flex": null,
      "flex_flow": null,
      "grid_area": null,
      "grid_auto_columns": null,
      "grid_auto_flow": null,
      "grid_auto_rows": null,
      "grid_column": null,
      "grid_gap": null,
      "grid_row": null,
      "grid_template_areas": null,
      "grid_template_columns": null,
      "grid_template_rows": null,
      "height": null,
      "justify_content": null,
      "justify_items": null,
      "left": null,
      "margin": null,
      "max_height": null,
      "max_width": null,
      "min_height": null,
      "min_width": null,
      "object_fit": null,
      "object_position": null,
      "order": null,
      "overflow": null,
      "overflow_x": null,
      "overflow_y": null,
      "padding": null,
      "right": null,
      "top": null,
      "visibility": null,
      "width": null
     }
    },
    "ad40076220284732b948c942f0ed320d": {
     "model_module": "@jupyter-widgets/controls",
     "model_name": "DescriptionStyleModel",
     "model_module_version": "1.5.0",
     "state": {
      "_model_module": "@jupyter-widgets/controls",
      "_model_module_version": "1.5.0",
      "_model_name": "DescriptionStyleModel",
      "_view_count": null,
      "_view_module": "@jupyter-widgets/base",
      "_view_module_version": "1.2.0",
      "_view_name": "StyleView",
      "description_width": ""
     }
    },
    "f23443d4ccbe43a38c043c67ddaf24d0": {
     "model_module": "@jupyter-widgets/base",
     "model_name": "LayoutModel",
     "model_module_version": "1.2.0",
     "state": {
      "_model_module": "@jupyter-widgets/base",
      "_model_module_version": "1.2.0",
      "_model_name": "LayoutModel",
      "_view_count": null,
      "_view_module": "@jupyter-widgets/base",
      "_view_module_version": "1.2.0",
      "_view_name": "LayoutView",
      "align_content": null,
      "align_items": null,
      "align_self": null,
      "border": null,
      "bottom": null,
      "display": null,
      "flex": null,
      "flex_flow": null,
      "grid_area": null,
      "grid_auto_columns": null,
      "grid_auto_flow": null,
      "grid_auto_rows": null,
      "grid_column": null,
      "grid_gap": null,
      "grid_row": null,
      "grid_template_areas": null,
      "grid_template_columns": null,
      "grid_template_rows": null,
      "height": null,
      "justify_content": null,
      "justify_items": null,
      "left": null,
      "margin": null,
      "max_height": null,
      "max_width": null,
      "min_height": null,
      "min_width": null,
      "object_fit": null,
      "object_position": null,
      "order": null,
      "overflow": null,
      "overflow_x": null,
      "overflow_y": null,
      "padding": null,
      "right": null,
      "top": null,
      "visibility": null,
      "width": null
     }
    },
    "4fac5cd0221c4dae8621934cb5067082": {
     "model_module": "@jupyter-widgets/controls",
     "model_name": "ProgressStyleModel",
     "model_module_version": "1.5.0",
     "state": {
      "_model_module": "@jupyter-widgets/controls",
      "_model_module_version": "1.5.0",
      "_model_name": "ProgressStyleModel",
      "_view_count": null,
      "_view_module": "@jupyter-widgets/base",
      "_view_module_version": "1.2.0",
      "_view_name": "StyleView",
      "bar_color": null,
      "description_width": ""
     }
    },
    "bda1307d09e04856a1583f819e9e0893": {
     "model_module": "@jupyter-widgets/base",
     "model_name": "LayoutModel",
     "model_module_version": "1.2.0",
     "state": {
      "_model_module": "@jupyter-widgets/base",
      "_model_module_version": "1.2.0",
      "_model_name": "LayoutModel",
      "_view_count": null,
      "_view_module": "@jupyter-widgets/base",
      "_view_module_version": "1.2.0",
      "_view_name": "LayoutView",
      "align_content": null,
      "align_items": null,
      "align_self": null,
      "border": null,
      "bottom": null,
      "display": null,
      "flex": null,
      "flex_flow": null,
      "grid_area": null,
      "grid_auto_columns": null,
      "grid_auto_flow": null,
      "grid_auto_rows": null,
      "grid_column": null,
      "grid_gap": null,
      "grid_row": null,
      "grid_template_areas": null,
      "grid_template_columns": null,
      "grid_template_rows": null,
      "height": null,
      "justify_content": null,
      "justify_items": null,
      "left": null,
      "margin": null,
      "max_height": null,
      "max_width": null,
      "min_height": null,
      "min_width": null,
      "object_fit": null,
      "object_position": null,
      "order": null,
      "overflow": null,
      "overflow_x": null,
      "overflow_y": null,
      "padding": null,
      "right": null,
      "top": null,
      "visibility": null,
      "width": null
     }
    },
    "dd51d9e1f06f43cd9722bfc8de2fea5b": {
     "model_module": "@jupyter-widgets/controls",
     "model_name": "DescriptionStyleModel",
     "model_module_version": "1.5.0",
     "state": {
      "_model_module": "@jupyter-widgets/controls",
      "_model_module_version": "1.5.0",
      "_model_name": "DescriptionStyleModel",
      "_view_count": null,
      "_view_module": "@jupyter-widgets/base",
      "_view_module_version": "1.2.0",
      "_view_name": "StyleView",
      "description_width": ""
     }
    },
    "44635ca8744e472197d00e1d18bca0b6": {
     "model_module": "@jupyter-widgets/controls",
     "model_name": "HBoxModel",
     "model_module_version": "1.5.0",
     "state": {
      "_dom_classes": [],
      "_model_module": "@jupyter-widgets/controls",
      "_model_module_version": "1.5.0",
      "_model_name": "HBoxModel",
      "_view_count": null,
      "_view_module": "@jupyter-widgets/controls",
      "_view_module_version": "1.5.0",
      "_view_name": "HBoxView",
      "box_style": "",
      "children": [
       "IPY_MODEL_e0e9110320144de28a84f641d89e593e",
       "IPY_MODEL_2d86c61f6d814a0ea286918a87d9aa61",
       "IPY_MODEL_4c249f1c0afe40f1b1ca6faf897abc3d"
      ],
      "layout": "IPY_MODEL_de0164a24ba9461c82abcb5cf46c6116"
     }
    },
    "e0e9110320144de28a84f641d89e593e": {
     "model_module": "@jupyter-widgets/controls",
     "model_name": "HTMLModel",
     "model_module_version": "1.5.0",
     "state": {
      "_dom_classes": [],
      "_model_module": "@jupyter-widgets/controls",
      "_model_module_version": "1.5.0",
      "_model_name": "HTMLModel",
      "_view_count": null,
      "_view_module": "@jupyter-widgets/controls",
      "_view_module_version": "1.5.0",
      "_view_name": "HTMLView",
      "description": "",
      "description_tooltip": null,
      "layout": "IPY_MODEL_7e6f7a1e73d44201967955e86daa627f",
      "placeholder": "​",
      "style": "IPY_MODEL_4aead029eeba45239e94f40ce8489fc3",
      "value": "Downloading (…)olve/main/vocab.json: 100%"
     }
    },
    "2d86c61f6d814a0ea286918a87d9aa61": {
     "model_module": "@jupyter-widgets/controls",
     "model_name": "FloatProgressModel",
     "model_module_version": "1.5.0",
     "state": {
      "_dom_classes": [],
      "_model_module": "@jupyter-widgets/controls",
      "_model_module_version": "1.5.0",
      "_model_name": "FloatProgressModel",
      "_view_count": null,
      "_view_module": "@jupyter-widgets/controls",
      "_view_module_version": "1.5.0",
      "_view_name": "ProgressView",
      "bar_style": "success",
      "description": "",
      "description_tooltip": null,
      "layout": "IPY_MODEL_f7b6d5561d5c4231b2b652d39a69c661",
      "max": 1042301,
      "min": 0,
      "orientation": "horizontal",
      "style": "IPY_MODEL_e6c41d9936ca4df796b1db1d450bfc50",
      "value": 1042301
     }
    },
    "4c249f1c0afe40f1b1ca6faf897abc3d": {
     "model_module": "@jupyter-widgets/controls",
     "model_name": "HTMLModel",
     "model_module_version": "1.5.0",
     "state": {
      "_dom_classes": [],
      "_model_module": "@jupyter-widgets/controls",
      "_model_module_version": "1.5.0",
      "_model_name": "HTMLModel",
      "_view_count": null,
      "_view_module": "@jupyter-widgets/controls",
      "_view_module_version": "1.5.0",
      "_view_name": "HTMLView",
      "description": "",
      "description_tooltip": null,
      "layout": "IPY_MODEL_001643e6ec5c40f183941ad86fa942d6",
      "placeholder": "​",
      "style": "IPY_MODEL_dc5a97c00fb64bdf98dafcd7993cb4e1",
      "value": " 1.04M/1.04M [00:00&lt;00:00, 4.02MB/s]"
     }
    },
    "de0164a24ba9461c82abcb5cf46c6116": {
     "model_module": "@jupyter-widgets/base",
     "model_name": "LayoutModel",
     "model_module_version": "1.2.0",
     "state": {
      "_model_module": "@jupyter-widgets/base",
      "_model_module_version": "1.2.0",
      "_model_name": "LayoutModel",
      "_view_count": null,
      "_view_module": "@jupyter-widgets/base",
      "_view_module_version": "1.2.0",
      "_view_name": "LayoutView",
      "align_content": null,
      "align_items": null,
      "align_self": null,
      "border": null,
      "bottom": null,
      "display": null,
      "flex": null,
      "flex_flow": null,
      "grid_area": null,
      "grid_auto_columns": null,
      "grid_auto_flow": null,
      "grid_auto_rows": null,
      "grid_column": null,
      "grid_gap": null,
      "grid_row": null,
      "grid_template_areas": null,
      "grid_template_columns": null,
      "grid_template_rows": null,
      "height": null,
      "justify_content": null,
      "justify_items": null,
      "left": null,
      "margin": null,
      "max_height": null,
      "max_width": null,
      "min_height": null,
      "min_width": null,
      "object_fit": null,
      "object_position": null,
      "order": null,
      "overflow": null,
      "overflow_x": null,
      "overflow_y": null,
      "padding": null,
      "right": null,
      "top": null,
      "visibility": null,
      "width": null
     }
    },
    "7e6f7a1e73d44201967955e86daa627f": {
     "model_module": "@jupyter-widgets/base",
     "model_name": "LayoutModel",
     "model_module_version": "1.2.0",
     "state": {
      "_model_module": "@jupyter-widgets/base",
      "_model_module_version": "1.2.0",
      "_model_name": "LayoutModel",
      "_view_count": null,
      "_view_module": "@jupyter-widgets/base",
      "_view_module_version": "1.2.0",
      "_view_name": "LayoutView",
      "align_content": null,
      "align_items": null,
      "align_self": null,
      "border": null,
      "bottom": null,
      "display": null,
      "flex": null,
      "flex_flow": null,
      "grid_area": null,
      "grid_auto_columns": null,
      "grid_auto_flow": null,
      "grid_auto_rows": null,
      "grid_column": null,
      "grid_gap": null,
      "grid_row": null,
      "grid_template_areas": null,
      "grid_template_columns": null,
      "grid_template_rows": null,
      "height": null,
      "justify_content": null,
      "justify_items": null,
      "left": null,
      "margin": null,
      "max_height": null,
      "max_width": null,
      "min_height": null,
      "min_width": null,
      "object_fit": null,
      "object_position": null,
      "order": null,
      "overflow": null,
      "overflow_x": null,
      "overflow_y": null,
      "padding": null,
      "right": null,
      "top": null,
      "visibility": null,
      "width": null
     }
    },
    "4aead029eeba45239e94f40ce8489fc3": {
     "model_module": "@jupyter-widgets/controls",
     "model_name": "DescriptionStyleModel",
     "model_module_version": "1.5.0",
     "state": {
      "_model_module": "@jupyter-widgets/controls",
      "_model_module_version": "1.5.0",
      "_model_name": "DescriptionStyleModel",
      "_view_count": null,
      "_view_module": "@jupyter-widgets/base",
      "_view_module_version": "1.2.0",
      "_view_name": "StyleView",
      "description_width": ""
     }
    },
    "f7b6d5561d5c4231b2b652d39a69c661": {
     "model_module": "@jupyter-widgets/base",
     "model_name": "LayoutModel",
     "model_module_version": "1.2.0",
     "state": {
      "_model_module": "@jupyter-widgets/base",
      "_model_module_version": "1.2.0",
      "_model_name": "LayoutModel",
      "_view_count": null,
      "_view_module": "@jupyter-widgets/base",
      "_view_module_version": "1.2.0",
      "_view_name": "LayoutView",
      "align_content": null,
      "align_items": null,
      "align_self": null,
      "border": null,
      "bottom": null,
      "display": null,
      "flex": null,
      "flex_flow": null,
      "grid_area": null,
      "grid_auto_columns": null,
      "grid_auto_flow": null,
      "grid_auto_rows": null,
      "grid_column": null,
      "grid_gap": null,
      "grid_row": null,
      "grid_template_areas": null,
      "grid_template_columns": null,
      "grid_template_rows": null,
      "height": null,
      "justify_content": null,
      "justify_items": null,
      "left": null,
      "margin": null,
      "max_height": null,
      "max_width": null,
      "min_height": null,
      "min_width": null,
      "object_fit": null,
      "object_position": null,
      "order": null,
      "overflow": null,
      "overflow_x": null,
      "overflow_y": null,
      "padding": null,
      "right": null,
      "top": null,
      "visibility": null,
      "width": null
     }
    },
    "e6c41d9936ca4df796b1db1d450bfc50": {
     "model_module": "@jupyter-widgets/controls",
     "model_name": "ProgressStyleModel",
     "model_module_version": "1.5.0",
     "state": {
      "_model_module": "@jupyter-widgets/controls",
      "_model_module_version": "1.5.0",
      "_model_name": "ProgressStyleModel",
      "_view_count": null,
      "_view_module": "@jupyter-widgets/base",
      "_view_module_version": "1.2.0",
      "_view_name": "StyleView",
      "bar_color": null,
      "description_width": ""
     }
    },
    "001643e6ec5c40f183941ad86fa942d6": {
     "model_module": "@jupyter-widgets/base",
     "model_name": "LayoutModel",
     "model_module_version": "1.2.0",
     "state": {
      "_model_module": "@jupyter-widgets/base",
      "_model_module_version": "1.2.0",
      "_model_name": "LayoutModel",
      "_view_count": null,
      "_view_module": "@jupyter-widgets/base",
      "_view_module_version": "1.2.0",
      "_view_name": "LayoutView",
      "align_content": null,
      "align_items": null,
      "align_self": null,
      "border": null,
      "bottom": null,
      "display": null,
      "flex": null,
      "flex_flow": null,
      "grid_area": null,
      "grid_auto_columns": null,
      "grid_auto_flow": null,
      "grid_auto_rows": null,
      "grid_column": null,
      "grid_gap": null,
      "grid_row": null,
      "grid_template_areas": null,
      "grid_template_columns": null,
      "grid_template_rows": null,
      "height": null,
      "justify_content": null,
      "justify_items": null,
      "left": null,
      "margin": null,
      "max_height": null,
      "max_width": null,
      "min_height": null,
      "min_width": null,
      "object_fit": null,
      "object_position": null,
      "order": null,
      "overflow": null,
      "overflow_x": null,
      "overflow_y": null,
      "padding": null,
      "right": null,
      "top": null,
      "visibility": null,
      "width": null
     }
    },
    "dc5a97c00fb64bdf98dafcd7993cb4e1": {
     "model_module": "@jupyter-widgets/controls",
     "model_name": "DescriptionStyleModel",
     "model_module_version": "1.5.0",
     "state": {
      "_model_module": "@jupyter-widgets/controls",
      "_model_module_version": "1.5.0",
      "_model_name": "DescriptionStyleModel",
      "_view_count": null,
      "_view_module": "@jupyter-widgets/base",
      "_view_module_version": "1.2.0",
      "_view_name": "StyleView",
      "description_width": ""
     }
    },
    "fa82a3d2a426407cbe2303f9f9f3cee4": {
     "model_module": "@jupyter-widgets/controls",
     "model_name": "HBoxModel",
     "model_module_version": "1.5.0",
     "state": {
      "_dom_classes": [],
      "_model_module": "@jupyter-widgets/controls",
      "_model_module_version": "1.5.0",
      "_model_name": "HBoxModel",
      "_view_count": null,
      "_view_module": "@jupyter-widgets/controls",
      "_view_module_version": "1.5.0",
      "_view_name": "HBoxView",
      "box_style": "",
      "children": [
       "IPY_MODEL_db5dacec6c7c4ee1bd28c5bb0f95f9fd",
       "IPY_MODEL_f796d3adae03443db53a741af2bed8bb",
       "IPY_MODEL_425188545f1a425d8b79a8ed7d7f00d8"
      ],
      "layout": "IPY_MODEL_d045cbc07d9942b29b5e29cb7abf9e8d"
     }
    },
    "db5dacec6c7c4ee1bd28c5bb0f95f9fd": {
     "model_module": "@jupyter-widgets/controls",
     "model_name": "HTMLModel",
     "model_module_version": "1.5.0",
     "state": {
      "_dom_classes": [],
      "_model_module": "@jupyter-widgets/controls",
      "_model_module_version": "1.5.0",
      "_model_name": "HTMLModel",
      "_view_count": null,
      "_view_module": "@jupyter-widgets/controls",
      "_view_module_version": "1.5.0",
      "_view_name": "HTMLView",
      "description": "",
      "description_tooltip": null,
      "layout": "IPY_MODEL_628bf13c6e294926830bee637794225e",
      "placeholder": "​",
      "style": "IPY_MODEL_336aec5f0fe345ba93e53edcd3f25435",
      "value": "Downloading (…)olve/main/merges.txt: 100%"
     }
    },
    "f796d3adae03443db53a741af2bed8bb": {
     "model_module": "@jupyter-widgets/controls",
     "model_name": "FloatProgressModel",
     "model_module_version": "1.5.0",
     "state": {
      "_dom_classes": [],
      "_model_module": "@jupyter-widgets/controls",
      "_model_module_version": "1.5.0",
      "_model_name": "FloatProgressModel",
      "_view_count": null,
      "_view_module": "@jupyter-widgets/controls",
      "_view_module_version": "1.5.0",
      "_view_name": "ProgressView",
      "bar_style": "success",
      "description": "",
      "description_tooltip": null,
      "layout": "IPY_MODEL_b3434e0a23f5475aa4afc083ae6286ac",
      "max": 456318,
      "min": 0,
      "orientation": "horizontal",
      "style": "IPY_MODEL_168a901e90e14c359375188f1b752055",
      "value": 456318
     }
    },
    "425188545f1a425d8b79a8ed7d7f00d8": {
     "model_module": "@jupyter-widgets/controls",
     "model_name": "HTMLModel",
     "model_module_version": "1.5.0",
     "state": {
      "_dom_classes": [],
      "_model_module": "@jupyter-widgets/controls",
      "_model_module_version": "1.5.0",
      "_model_name": "HTMLModel",
      "_view_count": null,
      "_view_module": "@jupyter-widgets/controls",
      "_view_module_version": "1.5.0",
      "_view_name": "HTMLView",
      "description": "",
      "description_tooltip": null,
      "layout": "IPY_MODEL_d6e325e233bd4200a8d73d73192bda35",
      "placeholder": "​",
      "style": "IPY_MODEL_2b8d70c8ea204da4940548d6685680f9",
      "value": " 456k/456k [00:00&lt;00:00, 3.42MB/s]"
     }
    },
    "d045cbc07d9942b29b5e29cb7abf9e8d": {
     "model_module": "@jupyter-widgets/base",
     "model_name": "LayoutModel",
     "model_module_version": "1.2.0",
     "state": {
      "_model_module": "@jupyter-widgets/base",
      "_model_module_version": "1.2.0",
      "_model_name": "LayoutModel",
      "_view_count": null,
      "_view_module": "@jupyter-widgets/base",
      "_view_module_version": "1.2.0",
      "_view_name": "LayoutView",
      "align_content": null,
      "align_items": null,
      "align_self": null,
      "border": null,
      "bottom": null,
      "display": null,
      "flex": null,
      "flex_flow": null,
      "grid_area": null,
      "grid_auto_columns": null,
      "grid_auto_flow": null,
      "grid_auto_rows": null,
      "grid_column": null,
      "grid_gap": null,
      "grid_row": null,
      "grid_template_areas": null,
      "grid_template_columns": null,
      "grid_template_rows": null,
      "height": null,
      "justify_content": null,
      "justify_items": null,
      "left": null,
      "margin": null,
      "max_height": null,
      "max_width": null,
      "min_height": null,
      "min_width": null,
      "object_fit": null,
      "object_position": null,
      "order": null,
      "overflow": null,
      "overflow_x": null,
      "overflow_y": null,
      "padding": null,
      "right": null,
      "top": null,
      "visibility": null,
      "width": null
     }
    },
    "628bf13c6e294926830bee637794225e": {
     "model_module": "@jupyter-widgets/base",
     "model_name": "LayoutModel",
     "model_module_version": "1.2.0",
     "state": {
      "_model_module": "@jupyter-widgets/base",
      "_model_module_version": "1.2.0",
      "_model_name": "LayoutModel",
      "_view_count": null,
      "_view_module": "@jupyter-widgets/base",
      "_view_module_version": "1.2.0",
      "_view_name": "LayoutView",
      "align_content": null,
      "align_items": null,
      "align_self": null,
      "border": null,
      "bottom": null,
      "display": null,
      "flex": null,
      "flex_flow": null,
      "grid_area": null,
      "grid_auto_columns": null,
      "grid_auto_flow": null,
      "grid_auto_rows": null,
      "grid_column": null,
      "grid_gap": null,
      "grid_row": null,
      "grid_template_areas": null,
      "grid_template_columns": null,
      "grid_template_rows": null,
      "height": null,
      "justify_content": null,
      "justify_items": null,
      "left": null,
      "margin": null,
      "max_height": null,
      "max_width": null,
      "min_height": null,
      "min_width": null,
      "object_fit": null,
      "object_position": null,
      "order": null,
      "overflow": null,
      "overflow_x": null,
      "overflow_y": null,
      "padding": null,
      "right": null,
      "top": null,
      "visibility": null,
      "width": null
     }
    },
    "336aec5f0fe345ba93e53edcd3f25435": {
     "model_module": "@jupyter-widgets/controls",
     "model_name": "DescriptionStyleModel",
     "model_module_version": "1.5.0",
     "state": {
      "_model_module": "@jupyter-widgets/controls",
      "_model_module_version": "1.5.0",
      "_model_name": "DescriptionStyleModel",
      "_view_count": null,
      "_view_module": "@jupyter-widgets/base",
      "_view_module_version": "1.2.0",
      "_view_name": "StyleView",
      "description_width": ""
     }
    },
    "b3434e0a23f5475aa4afc083ae6286ac": {
     "model_module": "@jupyter-widgets/base",
     "model_name": "LayoutModel",
     "model_module_version": "1.2.0",
     "state": {
      "_model_module": "@jupyter-widgets/base",
      "_model_module_version": "1.2.0",
      "_model_name": "LayoutModel",
      "_view_count": null,
      "_view_module": "@jupyter-widgets/base",
      "_view_module_version": "1.2.0",
      "_view_name": "LayoutView",
      "align_content": null,
      "align_items": null,
      "align_self": null,
      "border": null,
      "bottom": null,
      "display": null,
      "flex": null,
      "flex_flow": null,
      "grid_area": null,
      "grid_auto_columns": null,
      "grid_auto_flow": null,
      "grid_auto_rows": null,
      "grid_column": null,
      "grid_gap": null,
      "grid_row": null,
      "grid_template_areas": null,
      "grid_template_columns": null,
      "grid_template_rows": null,
      "height": null,
      "justify_content": null,
      "justify_items": null,
      "left": null,
      "margin": null,
      "max_height": null,
      "max_width": null,
      "min_height": null,
      "min_width": null,
      "object_fit": null,
      "object_position": null,
      "order": null,
      "overflow": null,
      "overflow_x": null,
      "overflow_y": null,
      "padding": null,
      "right": null,
      "top": null,
      "visibility": null,
      "width": null
     }
    },
    "168a901e90e14c359375188f1b752055": {
     "model_module": "@jupyter-widgets/controls",
     "model_name": "ProgressStyleModel",
     "model_module_version": "1.5.0",
     "state": {
      "_model_module": "@jupyter-widgets/controls",
      "_model_module_version": "1.5.0",
      "_model_name": "ProgressStyleModel",
      "_view_count": null,
      "_view_module": "@jupyter-widgets/base",
      "_view_module_version": "1.2.0",
      "_view_name": "StyleView",
      "bar_color": null,
      "description_width": ""
     }
    },
    "d6e325e233bd4200a8d73d73192bda35": {
     "model_module": "@jupyter-widgets/base",
     "model_name": "LayoutModel",
     "model_module_version": "1.2.0",
     "state": {
      "_model_module": "@jupyter-widgets/base",
      "_model_module_version": "1.2.0",
      "_model_name": "LayoutModel",
      "_view_count": null,
      "_view_module": "@jupyter-widgets/base",
      "_view_module_version": "1.2.0",
      "_view_name": "LayoutView",
      "align_content": null,
      "align_items": null,
      "align_self": null,
      "border": null,
      "bottom": null,
      "display": null,
      "flex": null,
      "flex_flow": null,
      "grid_area": null,
      "grid_auto_columns": null,
      "grid_auto_flow": null,
      "grid_auto_rows": null,
      "grid_column": null,
      "grid_gap": null,
      "grid_row": null,
      "grid_template_areas": null,
      "grid_template_columns": null,
      "grid_template_rows": null,
      "height": null,
      "justify_content": null,
      "justify_items": null,
      "left": null,
      "margin": null,
      "max_height": null,
      "max_width": null,
      "min_height": null,
      "min_width": null,
      "object_fit": null,
      "object_position": null,
      "order": null,
      "overflow": null,
      "overflow_x": null,
      "overflow_y": null,
      "padding": null,
      "right": null,
      "top": null,
      "visibility": null,
      "width": null
     }
    },
    "2b8d70c8ea204da4940548d6685680f9": {
     "model_module": "@jupyter-widgets/controls",
     "model_name": "DescriptionStyleModel",
     "model_module_version": "1.5.0",
     "state": {
      "_model_module": "@jupyter-widgets/controls",
      "_model_module_version": "1.5.0",
      "_model_name": "DescriptionStyleModel",
      "_view_count": null,
      "_view_module": "@jupyter-widgets/base",
      "_view_module_version": "1.2.0",
      "_view_name": "StyleView",
      "description_width": ""
     }
    },
    "2b73884b49c74607b7ab7aa1dc6f809a": {
     "model_module": "@jupyter-widgets/controls",
     "model_name": "HBoxModel",
     "model_module_version": "1.5.0",
     "state": {
      "_dom_classes": [],
      "_model_module": "@jupyter-widgets/controls",
      "_model_module_version": "1.5.0",
      "_model_name": "HBoxModel",
      "_view_count": null,
      "_view_module": "@jupyter-widgets/controls",
      "_view_module_version": "1.5.0",
      "_view_name": "HBoxView",
      "box_style": "",
      "children": [
       "IPY_MODEL_9fa2f27a2c794c789e2b90e6d49b32d3",
       "IPY_MODEL_b83882a101c54fe19e72a0f972d87a15",
       "IPY_MODEL_258ec0a5262943c5b3b23cf943260468"
      ],
      "layout": "IPY_MODEL_254d844ac9a0460d9e4a19340dfd4ff8"
     }
    },
    "9fa2f27a2c794c789e2b90e6d49b32d3": {
     "model_module": "@jupyter-widgets/controls",
     "model_name": "HTMLModel",
     "model_module_version": "1.5.0",
     "state": {
      "_dom_classes": [],
      "_model_module": "@jupyter-widgets/controls",
      "_model_module_version": "1.5.0",
      "_model_name": "HTMLModel",
      "_view_count": null,
      "_view_module": "@jupyter-widgets/controls",
      "_view_module_version": "1.5.0",
      "_view_name": "HTMLView",
      "description": "",
      "description_tooltip": null,
      "layout": "IPY_MODEL_149227af2a424c41834614cbe12eb31a",
      "placeholder": "​",
      "style": "IPY_MODEL_abd81101755242398e7c6696b3f8e125",
      "value": "Downloading (…)lve/main/config.json: 100%"
     }
    },
    "b83882a101c54fe19e72a0f972d87a15": {
     "model_module": "@jupyter-widgets/controls",
     "model_name": "FloatProgressModel",
     "model_module_version": "1.5.0",
     "state": {
      "_dom_classes": [],
      "_model_module": "@jupyter-widgets/controls",
      "_model_module_version": "1.5.0",
      "_model_name": "FloatProgressModel",
      "_view_count": null,
      "_view_module": "@jupyter-widgets/controls",
      "_view_module_version": "1.5.0",
      "_view_name": "ProgressView",
      "bar_style": "success",
      "description": "",
      "description_tooltip": null,
      "layout": "IPY_MODEL_b72003db71974832ae9b7cca0ac0bbd6",
      "max": 665,
      "min": 0,
      "orientation": "horizontal",
      "style": "IPY_MODEL_18c31dfcea1c4e3a901c517715ae310c",
      "value": 665
     }
    },
    "258ec0a5262943c5b3b23cf943260468": {
     "model_module": "@jupyter-widgets/controls",
     "model_name": "HTMLModel",
     "model_module_version": "1.5.0",
     "state": {
      "_dom_classes": [],
      "_model_module": "@jupyter-widgets/controls",
      "_model_module_version": "1.5.0",
      "_model_name": "HTMLModel",
      "_view_count": null,
      "_view_module": "@jupyter-widgets/controls",
      "_view_module_version": "1.5.0",
      "_view_name": "HTMLView",
      "description": "",
      "description_tooltip": null,
      "layout": "IPY_MODEL_cd6b1ce9d66048e5a61453f1c607d313",
      "placeholder": "​",
      "style": "IPY_MODEL_7355dd2cc7d14766bb17b55cc8c852ab",
      "value": " 665/665 [00:00&lt;00:00, 35.8kB/s]"
     }
    },
    "254d844ac9a0460d9e4a19340dfd4ff8": {
     "model_module": "@jupyter-widgets/base",
     "model_name": "LayoutModel",
     "model_module_version": "1.2.0",
     "state": {
      "_model_module": "@jupyter-widgets/base",
      "_model_module_version": "1.2.0",
      "_model_name": "LayoutModel",
      "_view_count": null,
      "_view_module": "@jupyter-widgets/base",
      "_view_module_version": "1.2.0",
      "_view_name": "LayoutView",
      "align_content": null,
      "align_items": null,
      "align_self": null,
      "border": null,
      "bottom": null,
      "display": null,
      "flex": null,
      "flex_flow": null,
      "grid_area": null,
      "grid_auto_columns": null,
      "grid_auto_flow": null,
      "grid_auto_rows": null,
      "grid_column": null,
      "grid_gap": null,
      "grid_row": null,
      "grid_template_areas": null,
      "grid_template_columns": null,
      "grid_template_rows": null,
      "height": null,
      "justify_content": null,
      "justify_items": null,
      "left": null,
      "margin": null,
      "max_height": null,
      "max_width": null,
      "min_height": null,
      "min_width": null,
      "object_fit": null,
      "object_position": null,
      "order": null,
      "overflow": null,
      "overflow_x": null,
      "overflow_y": null,
      "padding": null,
      "right": null,
      "top": null,
      "visibility": null,
      "width": null
     }
    },
    "149227af2a424c41834614cbe12eb31a": {
     "model_module": "@jupyter-widgets/base",
     "model_name": "LayoutModel",
     "model_module_version": "1.2.0",
     "state": {
      "_model_module": "@jupyter-widgets/base",
      "_model_module_version": "1.2.0",
      "_model_name": "LayoutModel",
      "_view_count": null,
      "_view_module": "@jupyter-widgets/base",
      "_view_module_version": "1.2.0",
      "_view_name": "LayoutView",
      "align_content": null,
      "align_items": null,
      "align_self": null,
      "border": null,
      "bottom": null,
      "display": null,
      "flex": null,
      "flex_flow": null,
      "grid_area": null,
      "grid_auto_columns": null,
      "grid_auto_flow": null,
      "grid_auto_rows": null,
      "grid_column": null,
      "grid_gap": null,
      "grid_row": null,
      "grid_template_areas": null,
      "grid_template_columns": null,
      "grid_template_rows": null,
      "height": null,
      "justify_content": null,
      "justify_items": null,
      "left": null,
      "margin": null,
      "max_height": null,
      "max_width": null,
      "min_height": null,
      "min_width": null,
      "object_fit": null,
      "object_position": null,
      "order": null,
      "overflow": null,
      "overflow_x": null,
      "overflow_y": null,
      "padding": null,
      "right": null,
      "top": null,
      "visibility": null,
      "width": null
     }
    },
    "abd81101755242398e7c6696b3f8e125": {
     "model_module": "@jupyter-widgets/controls",
     "model_name": "DescriptionStyleModel",
     "model_module_version": "1.5.0",
     "state": {
      "_model_module": "@jupyter-widgets/controls",
      "_model_module_version": "1.5.0",
      "_model_name": "DescriptionStyleModel",
      "_view_count": null,
      "_view_module": "@jupyter-widgets/base",
      "_view_module_version": "1.2.0",
      "_view_name": "StyleView",
      "description_width": ""
     }
    },
    "b72003db71974832ae9b7cca0ac0bbd6": {
     "model_module": "@jupyter-widgets/base",
     "model_name": "LayoutModel",
     "model_module_version": "1.2.0",
     "state": {
      "_model_module": "@jupyter-widgets/base",
      "_model_module_version": "1.2.0",
      "_model_name": "LayoutModel",
      "_view_count": null,
      "_view_module": "@jupyter-widgets/base",
      "_view_module_version": "1.2.0",
      "_view_name": "LayoutView",
      "align_content": null,
      "align_items": null,
      "align_self": null,
      "border": null,
      "bottom": null,
      "display": null,
      "flex": null,
      "flex_flow": null,
      "grid_area": null,
      "grid_auto_columns": null,
      "grid_auto_flow": null,
      "grid_auto_rows": null,
      "grid_column": null,
      "grid_gap": null,
      "grid_row": null,
      "grid_template_areas": null,
      "grid_template_columns": null,
      "grid_template_rows": null,
      "height": null,
      "justify_content": null,
      "justify_items": null,
      "left": null,
      "margin": null,
      "max_height": null,
      "max_width": null,
      "min_height": null,
      "min_width": null,
      "object_fit": null,
      "object_position": null,
      "order": null,
      "overflow": null,
      "overflow_x": null,
      "overflow_y": null,
      "padding": null,
      "right": null,
      "top": null,
      "visibility": null,
      "width": null
     }
    },
    "18c31dfcea1c4e3a901c517715ae310c": {
     "model_module": "@jupyter-widgets/controls",
     "model_name": "ProgressStyleModel",
     "model_module_version": "1.5.0",
     "state": {
      "_model_module": "@jupyter-widgets/controls",
      "_model_module_version": "1.5.0",
      "_model_name": "ProgressStyleModel",
      "_view_count": null,
      "_view_module": "@jupyter-widgets/base",
      "_view_module_version": "1.2.0",
      "_view_name": "StyleView",
      "bar_color": null,
      "description_width": ""
     }
    },
    "cd6b1ce9d66048e5a61453f1c607d313": {
     "model_module": "@jupyter-widgets/base",
     "model_name": "LayoutModel",
     "model_module_version": "1.2.0",
     "state": {
      "_model_module": "@jupyter-widgets/base",
      "_model_module_version": "1.2.0",
      "_model_name": "LayoutModel",
      "_view_count": null,
      "_view_module": "@jupyter-widgets/base",
      "_view_module_version": "1.2.0",
      "_view_name": "LayoutView",
      "align_content": null,
      "align_items": null,
      "align_self": null,
      "border": null,
      "bottom": null,
      "display": null,
      "flex": null,
      "flex_flow": null,
      "grid_area": null,
      "grid_auto_columns": null,
      "grid_auto_flow": null,
      "grid_auto_rows": null,
      "grid_column": null,
      "grid_gap": null,
      "grid_row": null,
      "grid_template_areas": null,
      "grid_template_columns": null,
      "grid_template_rows": null,
      "height": null,
      "justify_content": null,
      "justify_items": null,
      "left": null,
      "margin": null,
      "max_height": null,
      "max_width": null,
      "min_height": null,
      "min_width": null,
      "object_fit": null,
      "object_position": null,
      "order": null,
      "overflow": null,
      "overflow_x": null,
      "overflow_y": null,
      "padding": null,
      "right": null,
      "top": null,
      "visibility": null,
      "width": null
     }
    },
    "7355dd2cc7d14766bb17b55cc8c852ab": {
     "model_module": "@jupyter-widgets/controls",
     "model_name": "DescriptionStyleModel",
     "model_module_version": "1.5.0",
     "state": {
      "_model_module": "@jupyter-widgets/controls",
      "_model_module_version": "1.5.0",
      "_model_name": "DescriptionStyleModel",
      "_view_count": null,
      "_view_module": "@jupyter-widgets/base",
      "_view_module_version": "1.2.0",
      "_view_name": "StyleView",
      "description_width": ""
     }
    },
    "4bb40d4a81db487db71f463b9600e21a": {
     "model_module": "@jupyter-widgets/controls",
     "model_name": "HBoxModel",
     "model_module_version": "1.5.0",
     "state": {
      "_dom_classes": [],
      "_model_module": "@jupyter-widgets/controls",
      "_model_module_version": "1.5.0",
      "_model_name": "HBoxModel",
      "_view_count": null,
      "_view_module": "@jupyter-widgets/controls",
      "_view_module_version": "1.5.0",
      "_view_name": "HBoxView",
      "box_style": "",
      "children": [
       "IPY_MODEL_9c3f90dc3568436faa86a81ac5219f07",
       "IPY_MODEL_e4f8c1dc5c724a709e5be1efd048c4b4",
       "IPY_MODEL_fdacc24192e74b35ba12087b9164002e"
      ],
      "layout": "IPY_MODEL_1375b1bf28a647d0a9bc1ab091f568a8"
     }
    },
    "9c3f90dc3568436faa86a81ac5219f07": {
     "model_module": "@jupyter-widgets/controls",
     "model_name": "HTMLModel",
     "model_module_version": "1.5.0",
     "state": {
      "_dom_classes": [],
      "_model_module": "@jupyter-widgets/controls",
      "_model_module_version": "1.5.0",
      "_model_name": "HTMLModel",
      "_view_count": null,
      "_view_module": "@jupyter-widgets/controls",
      "_view_module_version": "1.5.0",
      "_view_name": "HTMLView",
      "description": "",
      "description_tooltip": null,
      "layout": "IPY_MODEL_0acace93d2d149c5a83866c16cf121c8",
      "placeholder": "​",
      "style": "IPY_MODEL_d06060b260574115a52026460d6f7c0f",
      "value": "Downloading model.safetensors: 100%"
     }
    },
    "e4f8c1dc5c724a709e5be1efd048c4b4": {
     "model_module": "@jupyter-widgets/controls",
     "model_name": "FloatProgressModel",
     "model_module_version": "1.5.0",
     "state": {
      "_dom_classes": [],
      "_model_module": "@jupyter-widgets/controls",
      "_model_module_version": "1.5.0",
      "_model_name": "FloatProgressModel",
      "_view_count": null,
      "_view_module": "@jupyter-widgets/controls",
      "_view_module_version": "1.5.0",
      "_view_name": "ProgressView",
      "bar_style": "success",
      "description": "",
      "description_tooltip": null,
      "layout": "IPY_MODEL_aa9887d143064fb7bebd69bff8e92425",
      "max": 548105171,
      "min": 0,
      "orientation": "horizontal",
      "style": "IPY_MODEL_a9a1918ba585476289e868ef44a09294",
      "value": 548105171
     }
    },
    "fdacc24192e74b35ba12087b9164002e": {
     "model_module": "@jupyter-widgets/controls",
     "model_name": "HTMLModel",
     "model_module_version": "1.5.0",
     "state": {
      "_dom_classes": [],
      "_model_module": "@jupyter-widgets/controls",
      "_model_module_version": "1.5.0",
      "_model_name": "HTMLModel",
      "_view_count": null,
      "_view_module": "@jupyter-widgets/controls",
      "_view_module_version": "1.5.0",
      "_view_name": "HTMLView",
      "description": "",
      "description_tooltip": null,
      "layout": "IPY_MODEL_4fce61a13e7e480192333f014e0363b7",
      "placeholder": "​",
      "style": "IPY_MODEL_d618e3abf4b442fa9e0e5e5e564a657e",
      "value": " 548M/548M [00:06&lt;00:00, 87.9MB/s]"
     }
    },
    "1375b1bf28a647d0a9bc1ab091f568a8": {
     "model_module": "@jupyter-widgets/base",
     "model_name": "LayoutModel",
     "model_module_version": "1.2.0",
     "state": {
      "_model_module": "@jupyter-widgets/base",
      "_model_module_version": "1.2.0",
      "_model_name": "LayoutModel",
      "_view_count": null,
      "_view_module": "@jupyter-widgets/base",
      "_view_module_version": "1.2.0",
      "_view_name": "LayoutView",
      "align_content": null,
      "align_items": null,
      "align_self": null,
      "border": null,
      "bottom": null,
      "display": null,
      "flex": null,
      "flex_flow": null,
      "grid_area": null,
      "grid_auto_columns": null,
      "grid_auto_flow": null,
      "grid_auto_rows": null,
      "grid_column": null,
      "grid_gap": null,
      "grid_row": null,
      "grid_template_areas": null,
      "grid_template_columns": null,
      "grid_template_rows": null,
      "height": null,
      "justify_content": null,
      "justify_items": null,
      "left": null,
      "margin": null,
      "max_height": null,
      "max_width": null,
      "min_height": null,
      "min_width": null,
      "object_fit": null,
      "object_position": null,
      "order": null,
      "overflow": null,
      "overflow_x": null,
      "overflow_y": null,
      "padding": null,
      "right": null,
      "top": null,
      "visibility": null,
      "width": null
     }
    },
    "0acace93d2d149c5a83866c16cf121c8": {
     "model_module": "@jupyter-widgets/base",
     "model_name": "LayoutModel",
     "model_module_version": "1.2.0",
     "state": {
      "_model_module": "@jupyter-widgets/base",
      "_model_module_version": "1.2.0",
      "_model_name": "LayoutModel",
      "_view_count": null,
      "_view_module": "@jupyter-widgets/base",
      "_view_module_version": "1.2.0",
      "_view_name": "LayoutView",
      "align_content": null,
      "align_items": null,
      "align_self": null,
      "border": null,
      "bottom": null,
      "display": null,
      "flex": null,
      "flex_flow": null,
      "grid_area": null,
      "grid_auto_columns": null,
      "grid_auto_flow": null,
      "grid_auto_rows": null,
      "grid_column": null,
      "grid_gap": null,
      "grid_row": null,
      "grid_template_areas": null,
      "grid_template_columns": null,
      "grid_template_rows": null,
      "height": null,
      "justify_content": null,
      "justify_items": null,
      "left": null,
      "margin": null,
      "max_height": null,
      "max_width": null,
      "min_height": null,
      "min_width": null,
      "object_fit": null,
      "object_position": null,
      "order": null,
      "overflow": null,
      "overflow_x": null,
      "overflow_y": null,
      "padding": null,
      "right": null,
      "top": null,
      "visibility": null,
      "width": null
     }
    },
    "d06060b260574115a52026460d6f7c0f": {
     "model_module": "@jupyter-widgets/controls",
     "model_name": "DescriptionStyleModel",
     "model_module_version": "1.5.0",
     "state": {
      "_model_module": "@jupyter-widgets/controls",
      "_model_module_version": "1.5.0",
      "_model_name": "DescriptionStyleModel",
      "_view_count": null,
      "_view_module": "@jupyter-widgets/base",
      "_view_module_version": "1.2.0",
      "_view_name": "StyleView",
      "description_width": ""
     }
    },
    "aa9887d143064fb7bebd69bff8e92425": {
     "model_module": "@jupyter-widgets/base",
     "model_name": "LayoutModel",
     "model_module_version": "1.2.0",
     "state": {
      "_model_module": "@jupyter-widgets/base",
      "_model_module_version": "1.2.0",
      "_model_name": "LayoutModel",
      "_view_count": null,
      "_view_module": "@jupyter-widgets/base",
      "_view_module_version": "1.2.0",
      "_view_name": "LayoutView",
      "align_content": null,
      "align_items": null,
      "align_self": null,
      "border": null,
      "bottom": null,
      "display": null,
      "flex": null,
      "flex_flow": null,
      "grid_area": null,
      "grid_auto_columns": null,
      "grid_auto_flow": null,
      "grid_auto_rows": null,
      "grid_column": null,
      "grid_gap": null,
      "grid_row": null,
      "grid_template_areas": null,
      "grid_template_columns": null,
      "grid_template_rows": null,
      "height": null,
      "justify_content": null,
      "justify_items": null,
      "left": null,
      "margin": null,
      "max_height": null,
      "max_width": null,
      "min_height": null,
      "min_width": null,
      "object_fit": null,
      "object_position": null,
      "order": null,
      "overflow": null,
      "overflow_x": null,
      "overflow_y": null,
      "padding": null,
      "right": null,
      "top": null,
      "visibility": null,
      "width": null
     }
    },
    "a9a1918ba585476289e868ef44a09294": {
     "model_module": "@jupyter-widgets/controls",
     "model_name": "ProgressStyleModel",
     "model_module_version": "1.5.0",
     "state": {
      "_model_module": "@jupyter-widgets/controls",
      "_model_module_version": "1.5.0",
      "_model_name": "ProgressStyleModel",
      "_view_count": null,
      "_view_module": "@jupyter-widgets/base",
      "_view_module_version": "1.2.0",
      "_view_name": "StyleView",
      "bar_color": null,
      "description_width": ""
     }
    },
    "4fce61a13e7e480192333f014e0363b7": {
     "model_module": "@jupyter-widgets/base",
     "model_name": "LayoutModel",
     "model_module_version": "1.2.0",
     "state": {
      "_model_module": "@jupyter-widgets/base",
      "_model_module_version": "1.2.0",
      "_model_name": "LayoutModel",
      "_view_count": null,
      "_view_module": "@jupyter-widgets/base",
      "_view_module_version": "1.2.0",
      "_view_name": "LayoutView",
      "align_content": null,
      "align_items": null,
      "align_self": null,
      "border": null,
      "bottom": null,
      "display": null,
      "flex": null,
      "flex_flow": null,
      "grid_area": null,
      "grid_auto_columns": null,
      "grid_auto_flow": null,
      "grid_auto_rows": null,
      "grid_column": null,
      "grid_gap": null,
      "grid_row": null,
      "grid_template_areas": null,
      "grid_template_columns": null,
      "grid_template_rows": null,
      "height": null,
      "justify_content": null,
      "justify_items": null,
      "left": null,
      "margin": null,
      "max_height": null,
      "max_width": null,
      "min_height": null,
      "min_width": null,
      "object_fit": null,
      "object_position": null,
      "order": null,
      "overflow": null,
      "overflow_x": null,
      "overflow_y": null,
      "padding": null,
      "right": null,
      "top": null,
      "visibility": null,
      "width": null
     }
    },
    "d618e3abf4b442fa9e0e5e5e564a657e": {
     "model_module": "@jupyter-widgets/controls",
     "model_name": "DescriptionStyleModel",
     "model_module_version": "1.5.0",
     "state": {
      "_model_module": "@jupyter-widgets/controls",
      "_model_module_version": "1.5.0",
      "_model_name": "DescriptionStyleModel",
      "_view_count": null,
      "_view_module": "@jupyter-widgets/base",
      "_view_module_version": "1.2.0",
      "_view_name": "StyleView",
      "description_width": ""
     }
    }
   }
  }
 },
 "cells": [
  {
   "cell_type": "markdown",
   "source": [
    "# Project 2: Word Embeddings and the Brain"
   ],
   "metadata": {
    "id": "mkRMhaXvndTM",
    "pycharm": {
     "name": "#%% md\n"
    }
   }
  },
  {
   "cell_type": "markdown",
   "source": [
    "## Semi-structured Tasks"
   ],
   "metadata": {
    "id": "WjycdsbjnXXJ",
    "pycharm": {
     "name": "#%% md\n"
    }
   }
  },
  {
   "cell_type": "code",
   "source": [
    "!pip install spacy ftfy==4.4.3"
   ],
   "metadata": {
    "colab": {
     "base_uri": "https://localhost:8080/"
    },
    "id": "SNQM6hFFfNcn",
    "outputId": "34e42a8d-1ee9-4e18-ec5b-3fb23bf2f3fa",
    "pycharm": {
     "name": "#%%\n"
    }
   },
   "execution_count": 5,
   "outputs": [
    {
     "output_type": "stream",
     "name": "stdout",
     "text": [
      "Requirement already satisfied: spacy in /usr/local/lib/python3.10/dist-packages (3.5.3)\n",
      "Collecting ftfy==4.4.3\n",
      "  Downloading ftfy-4.4.3.tar.gz (50 kB)\n",
      "\u001B[2K     \u001B[90m━━━━━━━━━━━━━━━━━━━━━━━━━━━━━━━━━━━━━━━━\u001B[0m \u001B[32m50.5/50.5 kB\u001B[0m \u001B[31m4.1 MB/s\u001B[0m eta \u001B[36m0:00:00\u001B[0m\n",
      "\u001B[?25h  Preparing metadata (setup.py) ... \u001B[?25l\u001B[?25hdone\n",
      "Requirement already satisfied: html5lib in /usr/local/lib/python3.10/dist-packages (from ftfy==4.4.3) (1.1)\n",
      "Requirement already satisfied: wcwidth in /usr/local/lib/python3.10/dist-packages (from ftfy==4.4.3) (0.2.6)\n",
      "Requirement already satisfied: spacy-legacy<3.1.0,>=3.0.11 in /usr/local/lib/python3.10/dist-packages (from spacy) (3.0.12)\n",
      "Requirement already satisfied: spacy-loggers<2.0.0,>=1.0.0 in /usr/local/lib/python3.10/dist-packages (from spacy) (1.0.4)\n",
      "Requirement already satisfied: murmurhash<1.1.0,>=0.28.0 in /usr/local/lib/python3.10/dist-packages (from spacy) (1.0.9)\n",
      "Requirement already satisfied: cymem<2.1.0,>=2.0.2 in /usr/local/lib/python3.10/dist-packages (from spacy) (2.0.7)\n",
      "Requirement already satisfied: preshed<3.1.0,>=3.0.2 in /usr/local/lib/python3.10/dist-packages (from spacy) (3.0.8)\n",
      "Requirement already satisfied: thinc<8.2.0,>=8.1.8 in /usr/local/lib/python3.10/dist-packages (from spacy) (8.1.10)\n",
      "Requirement already satisfied: wasabi<1.2.0,>=0.9.1 in /usr/local/lib/python3.10/dist-packages (from spacy) (1.1.2)\n",
      "Requirement already satisfied: srsly<3.0.0,>=2.4.3 in /usr/local/lib/python3.10/dist-packages (from spacy) (2.4.6)\n",
      "Requirement already satisfied: catalogue<2.1.0,>=2.0.6 in /usr/local/lib/python3.10/dist-packages (from spacy) (2.0.8)\n",
      "Requirement already satisfied: typer<0.8.0,>=0.3.0 in /usr/local/lib/python3.10/dist-packages (from spacy) (0.7.0)\n",
      "Requirement already satisfied: pathy>=0.10.0 in /usr/local/lib/python3.10/dist-packages (from spacy) (0.10.2)\n",
      "Requirement already satisfied: smart-open<7.0.0,>=5.2.1 in /usr/local/lib/python3.10/dist-packages (from spacy) (6.3.0)\n",
      "Requirement already satisfied: tqdm<5.0.0,>=4.38.0 in /usr/local/lib/python3.10/dist-packages (from spacy) (4.65.0)\n",
      "Requirement already satisfied: numpy>=1.15.0 in /usr/local/lib/python3.10/dist-packages (from spacy) (1.22.4)\n",
      "Requirement already satisfied: requests<3.0.0,>=2.13.0 in /usr/local/lib/python3.10/dist-packages (from spacy) (2.27.1)\n",
      "Requirement already satisfied: pydantic!=1.8,!=1.8.1,<1.11.0,>=1.7.4 in /usr/local/lib/python3.10/dist-packages (from spacy) (1.10.9)\n",
      "Requirement already satisfied: jinja2 in /usr/local/lib/python3.10/dist-packages (from spacy) (3.1.2)\n",
      "Requirement already satisfied: setuptools in /usr/local/lib/python3.10/dist-packages (from spacy) (67.7.2)\n",
      "Requirement already satisfied: packaging>=20.0 in /usr/local/lib/python3.10/dist-packages (from spacy) (23.1)\n",
      "Requirement already satisfied: langcodes<4.0.0,>=3.2.0 in /usr/local/lib/python3.10/dist-packages (from spacy) (3.3.0)\n",
      "Requirement already satisfied: typing-extensions>=4.2.0 in /usr/local/lib/python3.10/dist-packages (from pydantic!=1.8,!=1.8.1,<1.11.0,>=1.7.4->spacy) (4.6.3)\n",
      "Requirement already satisfied: urllib3<1.27,>=1.21.1 in /usr/local/lib/python3.10/dist-packages (from requests<3.0.0,>=2.13.0->spacy) (1.26.16)\n",
      "Requirement already satisfied: certifi>=2017.4.17 in /usr/local/lib/python3.10/dist-packages (from requests<3.0.0,>=2.13.0->spacy) (2023.5.7)\n",
      "Requirement already satisfied: charset-normalizer~=2.0.0 in /usr/local/lib/python3.10/dist-packages (from requests<3.0.0,>=2.13.0->spacy) (2.0.12)\n",
      "Requirement already satisfied: idna<4,>=2.5 in /usr/local/lib/python3.10/dist-packages (from requests<3.0.0,>=2.13.0->spacy) (3.4)\n",
      "Requirement already satisfied: blis<0.8.0,>=0.7.8 in /usr/local/lib/python3.10/dist-packages (from thinc<8.2.0,>=8.1.8->spacy) (0.7.9)\n",
      "Requirement already satisfied: confection<1.0.0,>=0.0.1 in /usr/local/lib/python3.10/dist-packages (from thinc<8.2.0,>=8.1.8->spacy) (0.0.4)\n",
      "Requirement already satisfied: click<9.0.0,>=7.1.1 in /usr/local/lib/python3.10/dist-packages (from typer<0.8.0,>=0.3.0->spacy) (8.1.3)\n",
      "Requirement already satisfied: six>=1.9 in /usr/local/lib/python3.10/dist-packages (from html5lib->ftfy==4.4.3) (1.16.0)\n",
      "Requirement already satisfied: webencodings in /usr/local/lib/python3.10/dist-packages (from html5lib->ftfy==4.4.3) (0.5.1)\n",
      "Requirement already satisfied: MarkupSafe>=2.0 in /usr/local/lib/python3.10/dist-packages (from jinja2->spacy) (2.1.3)\n",
      "Building wheels for collected packages: ftfy\n",
      "  Building wheel for ftfy (setup.py) ... \u001B[?25l\u001B[?25hdone\n",
      "  Created wheel for ftfy: filename=ftfy-4.4.3-py3-none-any.whl size=41076 sha256=024b22a15ed5fd8d95a27035e473bc6782a3f0359f842a589f61baaa49d19da1\n",
      "  Stored in directory: /root/.cache/pip/wheels/ff/17/af/513573c0a8a561878536d1cd7d8c0c355095f5ac7d0c335305\n",
      "Successfully built ftfy\n",
      "Installing collected packages: ftfy\n",
      "Successfully installed ftfy-4.4.3\n"
     ]
    }
   ]
  },
  {
   "cell_type": "code",
   "source": [
    "!pip install -U spacy\n",
    "!python -m spacy download en"
   ],
   "metadata": {
    "colab": {
     "base_uri": "https://localhost:8080/"
    },
    "id": "zTuV8G9xfSGS",
    "outputId": "4dad47ef-7cb0-469a-b691-6d5c2c77e492",
    "pycharm": {
     "name": "#%%\n"
    }
   },
   "execution_count": 6,
   "outputs": [
    {
     "output_type": "stream",
     "name": "stdout",
     "text": [
      "Requirement already satisfied: spacy in /usr/local/lib/python3.10/dist-packages (3.5.3)\n",
      "Collecting spacy\n",
      "  Downloading spacy-3.5.4-cp310-cp310-manylinux_2_17_x86_64.manylinux2014_x86_64.whl (6.6 MB)\n",
      "\u001B[2K     \u001B[90m━━━━━━━━━━━━━━━━━━━━━━━━━━━━━━━━━━━━━━━━\u001B[0m \u001B[32m6.6/6.6 MB\u001B[0m \u001B[31m54.5 MB/s\u001B[0m eta \u001B[36m0:00:00\u001B[0m\n",
      "\u001B[?25hRequirement already satisfied: spacy-legacy<3.1.0,>=3.0.11 in /usr/local/lib/python3.10/dist-packages (from spacy) (3.0.12)\n",
      "Requirement already satisfied: spacy-loggers<2.0.0,>=1.0.0 in /usr/local/lib/python3.10/dist-packages (from spacy) (1.0.4)\n",
      "Requirement already satisfied: murmurhash<1.1.0,>=0.28.0 in /usr/local/lib/python3.10/dist-packages (from spacy) (1.0.9)\n",
      "Requirement already satisfied: cymem<2.1.0,>=2.0.2 in /usr/local/lib/python3.10/dist-packages (from spacy) (2.0.7)\n",
      "Requirement already satisfied: preshed<3.1.0,>=3.0.2 in /usr/local/lib/python3.10/dist-packages (from spacy) (3.0.8)\n",
      "Requirement already satisfied: thinc<8.2.0,>=8.1.8 in /usr/local/lib/python3.10/dist-packages (from spacy) (8.1.10)\n",
      "Requirement already satisfied: wasabi<1.2.0,>=0.9.1 in /usr/local/lib/python3.10/dist-packages (from spacy) (1.1.2)\n",
      "Requirement already satisfied: srsly<3.0.0,>=2.4.3 in /usr/local/lib/python3.10/dist-packages (from spacy) (2.4.6)\n",
      "Requirement already satisfied: catalogue<2.1.0,>=2.0.6 in /usr/local/lib/python3.10/dist-packages (from spacy) (2.0.8)\n",
      "Requirement already satisfied: typer<0.10.0,>=0.3.0 in /usr/local/lib/python3.10/dist-packages (from spacy) (0.7.0)\n",
      "Requirement already satisfied: pathy>=0.10.0 in /usr/local/lib/python3.10/dist-packages (from spacy) (0.10.2)\n",
      "Requirement already satisfied: smart-open<7.0.0,>=5.2.1 in /usr/local/lib/python3.10/dist-packages (from spacy) (6.3.0)\n",
      "Requirement already satisfied: tqdm<5.0.0,>=4.38.0 in /usr/local/lib/python3.10/dist-packages (from spacy) (4.65.0)\n",
      "Requirement already satisfied: numpy>=1.15.0 in /usr/local/lib/python3.10/dist-packages (from spacy) (1.22.4)\n",
      "Requirement already satisfied: requests<3.0.0,>=2.13.0 in /usr/local/lib/python3.10/dist-packages (from spacy) (2.27.1)\n",
      "Requirement already satisfied: pydantic!=1.8,!=1.8.1,<1.11.0,>=1.7.4 in /usr/local/lib/python3.10/dist-packages (from spacy) (1.10.9)\n",
      "Requirement already satisfied: jinja2 in /usr/local/lib/python3.10/dist-packages (from spacy) (3.1.2)\n",
      "Requirement already satisfied: setuptools in /usr/local/lib/python3.10/dist-packages (from spacy) (67.7.2)\n",
      "Requirement already satisfied: packaging>=20.0 in /usr/local/lib/python3.10/dist-packages (from spacy) (23.1)\n",
      "Requirement already satisfied: langcodes<4.0.0,>=3.2.0 in /usr/local/lib/python3.10/dist-packages (from spacy) (3.3.0)\n",
      "Requirement already satisfied: typing-extensions>=4.2.0 in /usr/local/lib/python3.10/dist-packages (from pydantic!=1.8,!=1.8.1,<1.11.0,>=1.7.4->spacy) (4.6.3)\n",
      "Requirement already satisfied: urllib3<1.27,>=1.21.1 in /usr/local/lib/python3.10/dist-packages (from requests<3.0.0,>=2.13.0->spacy) (1.26.16)\n",
      "Requirement already satisfied: certifi>=2017.4.17 in /usr/local/lib/python3.10/dist-packages (from requests<3.0.0,>=2.13.0->spacy) (2023.5.7)\n",
      "Requirement already satisfied: charset-normalizer~=2.0.0 in /usr/local/lib/python3.10/dist-packages (from requests<3.0.0,>=2.13.0->spacy) (2.0.12)\n",
      "Requirement already satisfied: idna<4,>=2.5 in /usr/local/lib/python3.10/dist-packages (from requests<3.0.0,>=2.13.0->spacy) (3.4)\n",
      "Requirement already satisfied: blis<0.8.0,>=0.7.8 in /usr/local/lib/python3.10/dist-packages (from thinc<8.2.0,>=8.1.8->spacy) (0.7.9)\n",
      "Requirement already satisfied: confection<1.0.0,>=0.0.1 in /usr/local/lib/python3.10/dist-packages (from thinc<8.2.0,>=8.1.8->spacy) (0.0.4)\n",
      "Requirement already satisfied: click<9.0.0,>=7.1.1 in /usr/local/lib/python3.10/dist-packages (from typer<0.10.0,>=0.3.0->spacy) (8.1.3)\n",
      "Requirement already satisfied: MarkupSafe>=2.0 in /usr/local/lib/python3.10/dist-packages (from jinja2->spacy) (2.1.3)\n",
      "Installing collected packages: spacy\n",
      "  Attempting uninstall: spacy\n",
      "    Found existing installation: spacy 3.5.3\n",
      "    Uninstalling spacy-3.5.3:\n",
      "      Successfully uninstalled spacy-3.5.3\n",
      "Successfully installed spacy-3.5.4\n",
      "2023-07-05 07:20:46.719436: I tensorflow/core/platform/cpu_feature_guard.cc:182] This TensorFlow binary is optimized to use available CPU instructions in performance-critical operations.\n",
      "To enable the following instructions: AVX2 FMA, in other operations, rebuild TensorFlow with the appropriate compiler flags.\n",
      "2023-07-05 07:20:48.473401: W tensorflow/compiler/tf2tensorrt/utils/py_utils.cc:38] TF-TRT Warning: Could not find TensorRT\n",
      "\u001B[38;5;3m⚠ As of spaCy v3.0, shortcuts like 'en' are deprecated. Please use the\n",
      "full pipeline package name 'en_core_web_sm' instead.\u001B[0m\n",
      "Collecting en-core-web-sm==3.5.0\n",
      "  Downloading https://github.com/explosion/spacy-models/releases/download/en_core_web_sm-3.5.0/en_core_web_sm-3.5.0-py3-none-any.whl (12.8 MB)\n",
      "\u001B[2K     \u001B[90m━━━━━━━━━━━━━━━━━━━━━━━━━━━━━━━━━━━━━━━━\u001B[0m \u001B[32m12.8/12.8 MB\u001B[0m \u001B[31m45.3 MB/s\u001B[0m eta \u001B[36m0:00:00\u001B[0m\n",
      "\u001B[?25hRequirement already satisfied: spacy<3.6.0,>=3.5.0 in /usr/local/lib/python3.10/dist-packages (from en-core-web-sm==3.5.0) (3.5.4)\n",
      "Requirement already satisfied: spacy-legacy<3.1.0,>=3.0.11 in /usr/local/lib/python3.10/dist-packages (from spacy<3.6.0,>=3.5.0->en-core-web-sm==3.5.0) (3.0.12)\n",
      "Requirement already satisfied: spacy-loggers<2.0.0,>=1.0.0 in /usr/local/lib/python3.10/dist-packages (from spacy<3.6.0,>=3.5.0->en-core-web-sm==3.5.0) (1.0.4)\n",
      "Requirement already satisfied: murmurhash<1.1.0,>=0.28.0 in /usr/local/lib/python3.10/dist-packages (from spacy<3.6.0,>=3.5.0->en-core-web-sm==3.5.0) (1.0.9)\n",
      "Requirement already satisfied: cymem<2.1.0,>=2.0.2 in /usr/local/lib/python3.10/dist-packages (from spacy<3.6.0,>=3.5.0->en-core-web-sm==3.5.0) (2.0.7)\n",
      "Requirement already satisfied: preshed<3.1.0,>=3.0.2 in /usr/local/lib/python3.10/dist-packages (from spacy<3.6.0,>=3.5.0->en-core-web-sm==3.5.0) (3.0.8)\n",
      "Requirement already satisfied: thinc<8.2.0,>=8.1.8 in /usr/local/lib/python3.10/dist-packages (from spacy<3.6.0,>=3.5.0->en-core-web-sm==3.5.0) (8.1.10)\n",
      "Requirement already satisfied: wasabi<1.2.0,>=0.9.1 in /usr/local/lib/python3.10/dist-packages (from spacy<3.6.0,>=3.5.0->en-core-web-sm==3.5.0) (1.1.2)\n",
      "Requirement already satisfied: srsly<3.0.0,>=2.4.3 in /usr/local/lib/python3.10/dist-packages (from spacy<3.6.0,>=3.5.0->en-core-web-sm==3.5.0) (2.4.6)\n",
      "Requirement already satisfied: catalogue<2.1.0,>=2.0.6 in /usr/local/lib/python3.10/dist-packages (from spacy<3.6.0,>=3.5.0->en-core-web-sm==3.5.0) (2.0.8)\n",
      "Requirement already satisfied: typer<0.10.0,>=0.3.0 in /usr/local/lib/python3.10/dist-packages (from spacy<3.6.0,>=3.5.0->en-core-web-sm==3.5.0) (0.7.0)\n",
      "Requirement already satisfied: pathy>=0.10.0 in /usr/local/lib/python3.10/dist-packages (from spacy<3.6.0,>=3.5.0->en-core-web-sm==3.5.0) (0.10.2)\n",
      "Requirement already satisfied: smart-open<7.0.0,>=5.2.1 in /usr/local/lib/python3.10/dist-packages (from spacy<3.6.0,>=3.5.0->en-core-web-sm==3.5.0) (6.3.0)\n",
      "Requirement already satisfied: tqdm<5.0.0,>=4.38.0 in /usr/local/lib/python3.10/dist-packages (from spacy<3.6.0,>=3.5.0->en-core-web-sm==3.5.0) (4.65.0)\n",
      "Requirement already satisfied: numpy>=1.15.0 in /usr/local/lib/python3.10/dist-packages (from spacy<3.6.0,>=3.5.0->en-core-web-sm==3.5.0) (1.22.4)\n",
      "Requirement already satisfied: requests<3.0.0,>=2.13.0 in /usr/local/lib/python3.10/dist-packages (from spacy<3.6.0,>=3.5.0->en-core-web-sm==3.5.0) (2.27.1)\n",
      "Requirement already satisfied: pydantic!=1.8,!=1.8.1,<1.11.0,>=1.7.4 in /usr/local/lib/python3.10/dist-packages (from spacy<3.6.0,>=3.5.0->en-core-web-sm==3.5.0) (1.10.9)\n",
      "Requirement already satisfied: jinja2 in /usr/local/lib/python3.10/dist-packages (from spacy<3.6.0,>=3.5.0->en-core-web-sm==3.5.0) (3.1.2)\n",
      "Requirement already satisfied: setuptools in /usr/local/lib/python3.10/dist-packages (from spacy<3.6.0,>=3.5.0->en-core-web-sm==3.5.0) (67.7.2)\n",
      "Requirement already satisfied: packaging>=20.0 in /usr/local/lib/python3.10/dist-packages (from spacy<3.6.0,>=3.5.0->en-core-web-sm==3.5.0) (23.1)\n",
      "Requirement already satisfied: langcodes<4.0.0,>=3.2.0 in /usr/local/lib/python3.10/dist-packages (from spacy<3.6.0,>=3.5.0->en-core-web-sm==3.5.0) (3.3.0)\n",
      "Requirement already satisfied: typing-extensions>=4.2.0 in /usr/local/lib/python3.10/dist-packages (from pydantic!=1.8,!=1.8.1,<1.11.0,>=1.7.4->spacy<3.6.0,>=3.5.0->en-core-web-sm==3.5.0) (4.6.3)\n",
      "Requirement already satisfied: urllib3<1.27,>=1.21.1 in /usr/local/lib/python3.10/dist-packages (from requests<3.0.0,>=2.13.0->spacy<3.6.0,>=3.5.0->en-core-web-sm==3.5.0) (1.26.16)\n",
      "Requirement already satisfied: certifi>=2017.4.17 in /usr/local/lib/python3.10/dist-packages (from requests<3.0.0,>=2.13.0->spacy<3.6.0,>=3.5.0->en-core-web-sm==3.5.0) (2023.5.7)\n",
      "Requirement already satisfied: charset-normalizer~=2.0.0 in /usr/local/lib/python3.10/dist-packages (from requests<3.0.0,>=2.13.0->spacy<3.6.0,>=3.5.0->en-core-web-sm==3.5.0) (2.0.12)\n",
      "Requirement already satisfied: idna<4,>=2.5 in /usr/local/lib/python3.10/dist-packages (from requests<3.0.0,>=2.13.0->spacy<3.6.0,>=3.5.0->en-core-web-sm==3.5.0) (3.4)\n",
      "Requirement already satisfied: blis<0.8.0,>=0.7.8 in /usr/local/lib/python3.10/dist-packages (from thinc<8.2.0,>=8.1.8->spacy<3.6.0,>=3.5.0->en-core-web-sm==3.5.0) (0.7.9)\n",
      "Requirement already satisfied: confection<1.0.0,>=0.0.1 in /usr/local/lib/python3.10/dist-packages (from thinc<8.2.0,>=8.1.8->spacy<3.6.0,>=3.5.0->en-core-web-sm==3.5.0) (0.0.4)\n",
      "Requirement already satisfied: click<9.0.0,>=7.1.1 in /usr/local/lib/python3.10/dist-packages (from typer<0.10.0,>=0.3.0->spacy<3.6.0,>=3.5.0->en-core-web-sm==3.5.0) (8.1.3)\n",
      "Requirement already satisfied: MarkupSafe>=2.0 in /usr/local/lib/python3.10/dist-packages (from jinja2->spacy<3.6.0,>=3.5.0->en-core-web-sm==3.5.0) (2.1.3)\n",
      "\u001B[38;5;2m✔ Download and installation successful\u001B[0m\n",
      "You can now load the package via spacy.load('en_core_web_sm')\n"
     ]
    }
   ]
  },
  {
   "cell_type": "code",
   "source": [
    "import numpy as np\n",
    "import pandas as pd\n",
    "import matplotlib.pyplot as plt\n",
    "import statistics\n",
    "from learn_decoder import *\n",
    "import pickle\n",
    "from collections import defaultdict\n",
    "from transformers import OpenAIGPTTokenizer, OpenAIGPTModel, GPT2Tokenizer, GPT2Model\n",
    "import torch\n",
    "from sklearn.decomposition import PCA\n",
    "import sklearn.metrics\n",
    "from sklearn.linear_model import LinearRegression\n",
    "import scipy.stats\n",
    "import seaborn as sns\n"
   ],
   "metadata": {
    "id": "_9Wx_AnIoxFJ",
    "pycharm": {
     "name": "#%%\n"
    }
   },
   "execution_count": 7,
   "outputs": []
  },
  {
   "cell_type": "markdown",
   "source": [
    "### Part 1"
   ],
   "metadata": {
    "id": "-vt3ebj5nt0e",
    "pycharm": {
     "name": "#%% md\n"
    }
   }
  },
  {
   "cell_type": "markdown",
   "source": [
    "We decided to train a decoder model on the dataset from analysis 2 (384 sentences).\n",
    "\n",
    "According to Refael's advice in the reception hour, we used different models for additional training. We chose OpenAI-GPT models - GPT1 and GPT2 out of personal interest."
   ],
   "metadata": {
    "id": "8YF4Kym2nwZe",
    "pycharm": {
     "name": "#%% md\n"
    }
   }
  },
  {
   "cell_type": "code",
   "source": [
    "file_path = '/content/Structured Task (sentence decoding)/EXP2.pkl'  # Path to the EXP2 file\n",
    "with open(file_path, 'rb') as exp2:\n",
    "    exp2_dict = pickle.load(exp2)\n"
   ],
   "metadata": {
    "id": "96tHjPUyDM5f",
    "pycharm": {
     "name": "#%%\n"
    }
   },
   "execution_count": 8,
   "outputs": []
  },
  {
   "cell_type": "code",
   "source": [
    "# Load Fmridata from exp2_dict\n",
    "exp2_data = exp2_dict.get(\"Fmridata\")\n",
    "\n",
    "# Read vectors from file\n",
    "exp2_vectors_file = \"vectors_384sentences.GV42B300.average.txt\"\n",
    "exp2_vectors = read_matrix(\"/content/Structured Task (sentence decoding)/vectors_384sentences.GV42B300.average.txt\", sep=\" \")\n",
    "\n",
    "# Read sentences from file\n",
    "exp2_sentences_file = \"/content/Structured Task (sentence decoding)/stimuli_384sentences.txt\"\n",
    "with open(exp2_sentences_file, \"r\") as exp2_sentences:\n",
    "    exp2_concepts = np.asarray(exp2_sentences.readlines())\n"
   ],
   "metadata": {
    "id": "pZPLEaBjDNyU",
    "pycharm": {
     "name": "#%%\n"
    }
   },
   "execution_count": 9,
   "outputs": []
  },
  {
   "cell_type": "code",
   "source": [
    "# Calculate cosine similarity\n",
    "def cosine_similarity(x: np.ndarray, y: np.ndarray) -> float:\n",
    "    dot_product = np.dot(x, y)\n",
    "    norm_x = np.linalg.norm(x)\n",
    "    norm_y = np.linalg.norm(y)\n",
    "    similarity = dot_product / (norm_x * norm_y)\n",
    "    return similarity\n",
    "\n",
    "\n",
    "# Calculate the rank of a vector\n",
    "def calculate_rank(index, target_vec, vectors):\n",
    "  vectors_dict = defaultdict(None)\n",
    "  for row in range(vectors.shape[0]):\n",
    "    vectors_dict[row] = cosine_similarity(target_vec, vectors[row, :])\n",
    "  vectors_dict = {k: v for k, v in sorted(vectors_dict.items(), key=lambda item: item[1], reverse=True)}\n",
    "  for rank, key in enumerate(vectors_dict.keys(), start=1):\n",
    "      if key == index:\n",
    "          return rank"
   ],
   "metadata": {
    "id": "UeFpmnUIsGWf",
    "pycharm": {
     "name": "#%%\n"
    }
   },
   "execution_count": 10,
   "outputs": []
  },
  {
   "cell_type": "code",
   "source": [
    "# Number of folds\n",
    "k = 18\n",
    "\n",
    "# Calculate the number of concepts per fold\n",
    "concepts_per_fold = len(exp2_concepts) // k\n",
    "\n",
    "# Splitting the data into training and test sets according to 18-fold cross-validation\n",
    "exp2_average_ranks = []\n",
    "start = 0\n",
    "end = concepts_per_fold\n",
    "for i in range(k):\n",
    "    test_vectors = exp2_vectors[start:end]\n",
    "    test_data = exp2_data[start:end]\n",
    "    test_list = list(range(start, end))\n",
    "    train_list = list(set(range(len(exp2_data))) - set(test_list))\n",
    "\n",
    "    # Train the decoder using the provided code\n",
    "    decoder2 = learn_decoder(exp2_data[train_list, :], exp2_vectors[train_list, :])\n",
    "\n",
    "    start += concepts_per_fold\n",
    "    end += concepts_per_fold\n",
    "\n",
    "    # Use the decoder to decode semantic vectors\n",
    "    prediction2 = np.dot(test_data, decoder2)\n",
    "\n",
    "    # Evaluate the accuracy of these decoded vectors\n",
    "    ranks = []\n",
    "    for v, index in enumerate(test_list):\n",
    "        ranks.append(calculate_rank(index, prediction2[v], exp2_vectors))\n",
    "\n",
    "    exp2_average_ranks.append(np.mean(ranks))"
   ],
   "metadata": {
    "id": "C-g9DBrIr-qy",
    "pycharm": {
     "name": "#%%\n"
    }
   },
   "execution_count": 11,
   "outputs": []
  },
  {
   "cell_type": "markdown",
   "source": [
    "#### GPT-1 Model"
   ],
   "metadata": {
    "id": "kOIQFHZhiHai",
    "pycharm": {
     "name": "#%% md\n"
    }
   }
  },
  {
   "cell_type": "code",
   "source": [
    "# Mean Pooling from 'huggingface' - Take attention mask into account for correct averaging\n",
    "def mean_pooling(model_output, attention_mask):\n",
    "    token_embeddings = model_output[0] #First element of model_output contains all token embeddings\n",
    "    input_mask_expanded = attention_mask.unsqueeze(-1).expand(token_embeddings.size()).float()\n",
    "    return torch.sum(token_embeddings * input_mask_expanded, 1) / torch.clamp(input_mask_expanded.sum(1), min=1e-9)"
   ],
   "metadata": {
    "id": "pE37C9irvij1",
    "pycharm": {
     "name": "#%%\n"
    }
   },
   "execution_count": 12,
   "outputs": []
  },
  {
   "cell_type": "code",
   "source": [
    "exp2_sentences = [sentence[0][0] for sentence in exp2_dict['keySentences']]"
   ],
   "metadata": {
    "id": "8OQ5xsMTOuoi",
    "pycharm": {
     "name": "#%%\n"
    }
   },
   "execution_count": 13,
   "outputs": []
  },
  {
   "cell_type": "code",
   "source": [
    "# Load the OpenAIGPTModel and tokenizer\n",
    "\n",
    "tokenizer = OpenAIGPTTokenizer.from_pretrained('openai-gpt')\n",
    "model = OpenAIGPTModel.from_pretrained('openai-gpt')"
   ],
   "metadata": {
    "id": "CtpYROGNUmgm",
    "colab": {
     "base_uri": "https://localhost:8080/",
     "height": 145,
     "referenced_widgets": [
      "64ac4892bf414863ad668b3997d33472",
      "70236895dc154fcf8265e5bd223f434a",
      "93e1cca1e3f34ec79baab642f11d0046",
      "de07c192df7f4770ab1c7b9f8659ddbf",
      "6e1e586776f34f91b2daa36ec56dc903",
      "2d55f18cd270487fa8daddfadf30fac9",
      "6e50fb1b7be44e82b5b0e22c29a4a885",
      "b4d8d41fa9964d96a557b53507ea720b",
      "c16ac263ddca48fc96c34aec42ac627c",
      "d573b018e0c54229892ae561f6a57437",
      "f1d1ba8bc9f84726af341be7a9b41ec8",
      "300d5771017b491b9646c979ba776579",
      "12e6974418be4f7ebb02bba2dea9ff52",
      "80f2d2f94e704517b4763899dc5d66b5",
      "7eed576c4a444c06b40fa20b5bf1e057",
      "cd0fb340086e44e9a0d46fafd721d3b5",
      "b284865deabf46389b09e60bf3056972",
      "a2c4675188f244af9ef1fda114a6b3af",
      "6153d049304b48278e8c97377ac7bb5f",
      "5596a71de7c248dfb2072ab786ac1894",
      "e043fde8d87d4b90a66edad4dffdf1fc",
      "3c5510b2d76e44d09a167cf1d7554241",
      "9976265e970649278c1a349e80187f58",
      "06e54eb95a2c4ffb8b72a76c24871291",
      "b4259057eaad4e1e9c8770caada5426f",
      "e170c4bda1b3415eb5ec1f5e46a7dc8a",
      "07a8606dd9674aa2a17087a396653a3f",
      "10b15bea00584ee5b9e376778db5b63c",
      "7932fb51a66442ddba69e1f7d34cff39",
      "8e70641ebf8e4a7c912a97fd51e95f06",
      "583ad7c10d9b4c7ca09befc0dd5b0de0",
      "d543b1d10d504407919d92fe1105d76c",
      "69cdf7aaffd94e7c830c6760ed3d4b36",
      "e2cb87c5920245b88f9a9204a77d13c0",
      "64248f8b93cf428c9484d93e19f46e62",
      "b9e247e11f984b36aae70b7276ab8bed",
      "f71490aaeb044d03a852241bf6ded637",
      "a7681704ef4c414d8d67a6b6a1ac0ec2",
      "24d22f32fc5543bb8d75ec7fd81e9468",
      "ad40076220284732b948c942f0ed320d",
      "f23443d4ccbe43a38c043c67ddaf24d0",
      "4fac5cd0221c4dae8621934cb5067082",
      "bda1307d09e04856a1583f819e9e0893",
      "dd51d9e1f06f43cd9722bfc8de2fea5b"
     ]
    },
    "outputId": "0ab755e0-c428-4582-eca4-1265252921e7",
    "pycharm": {
     "name": "#%%\n"
    }
   },
   "execution_count": 14,
   "outputs": [
    {
     "output_type": "display_data",
     "data": {
      "text/plain": [
       "Downloading (…)olve/main/vocab.json:   0%|          | 0.00/816k [00:00<?, ?B/s]"
      ],
      "application/vnd.jupyter.widget-view+json": {
       "version_major": 2,
       "version_minor": 0,
       "model_id": "64ac4892bf414863ad668b3997d33472"
      }
     },
     "metadata": {}
    },
    {
     "output_type": "display_data",
     "data": {
      "text/plain": [
       "Downloading (…)olve/main/merges.txt:   0%|          | 0.00/458k [00:00<?, ?B/s]"
      ],
      "application/vnd.jupyter.widget-view+json": {
       "version_major": 2,
       "version_minor": 0,
       "model_id": "300d5771017b491b9646c979ba776579"
      }
     },
     "metadata": {}
    },
    {
     "output_type": "display_data",
     "data": {
      "text/plain": [
       "Downloading (…)lve/main/config.json:   0%|          | 0.00/656 [00:00<?, ?B/s]"
      ],
      "application/vnd.jupyter.widget-view+json": {
       "version_major": 2,
       "version_minor": 0,
       "model_id": "9976265e970649278c1a349e80187f58"
      }
     },
     "metadata": {}
    },
    {
     "output_type": "display_data",
     "data": {
      "text/plain": [
       "Downloading model.safetensors:   0%|          | 0.00/479M [00:00<?, ?B/s]"
      ],
      "application/vnd.jupyter.widget-view+json": {
       "version_major": 2,
       "version_minor": 0,
       "model_id": "e2cb87c5920245b88f9a9204a77d13c0"
      }
     },
     "metadata": {}
    }
   ]
  },
  {
   "cell_type": "code",
   "source": [
    "# Tokenize sentences\n",
    "tokenizer.add_special_tokens({'pad_token': '[PAD]'})\n",
    "encoded_input = tokenizer(exp2_sentences, padding=True, truncation=True, return_tensors='pt')\n",
    "model.resize_token_embeddings(len(tokenizer))\n",
    "\n",
    "# Compute token embeddings\n",
    "with torch.no_grad():\n",
    "    model_output = model(**encoded_input)\n",
    "\n",
    "# Perform pooling. In this case, max pooling.\n",
    "sentence_embeddings = mean_pooling(model_output, encoded_input['attention_mask'])\n",
    "sentence_embeddings_arr = np.array(sentence_embeddings)\n",
    "pca = PCA(n_components=300)\n",
    "exp2_vectors_gpt = pca.fit_transform(sentence_embeddings_arr)"
   ],
   "metadata": {
    "id": "iNkiO1WFvxR1",
    "pycharm": {
     "name": "#%%\n"
    }
   },
   "execution_count": 15,
   "outputs": []
  },
  {
   "cell_type": "code",
   "source": [
    "# Number of folds\n",
    "k = 18\n",
    "\n",
    "# Calculate the number of concepts per fold\n",
    "concepts_per_fold = len(exp2_concepts) // k\n",
    "\n",
    "# Splitting the data into training and test sets according to 18-fold cross-validation\n",
    "exp2_average_ranks_gpt = []\n",
    "start = 0\n",
    "end = concepts_per_fold\n",
    "for i in range(k):\n",
    "    test_vectors = exp2_vectors_gpt[start:end]\n",
    "    test_data = exp2_data[start:end]\n",
    "    test_list = list(range(start, end))\n",
    "    train_list = list(set(range(len(exp2_data))) - set(test_list))\n",
    "\n",
    "    # Train the decoder using the provided code\n",
    "    decoder2_gpt = learn_decoder(exp2_data[train_list, :], exp2_vectors_gpt[train_list, :])\n",
    "\n",
    "    start += concepts_per_fold\n",
    "    end += concepts_per_fold\n",
    "\n",
    "    # Use the decoder to decode semantic vectors\n",
    "    prediction2_gpt = np.dot(test_data, decoder2_gpt)\n",
    "\n",
    "    # Evaluate the accuracy of these decoded vectors\n",
    "    ranks = []\n",
    "    for v, index in enumerate(test_list):\n",
    "        ranks.append(calculate_rank(index, prediction2_gpt[v], exp2_vectors_gpt))\n",
    "\n",
    "    exp2_average_ranks_gpt.append(np.mean(ranks))"
   ],
   "metadata": {
    "id": "nl7-1Zq3wWOd",
    "pycharm": {
     "name": "#%%\n"
    }
   },
   "execution_count": 16,
   "outputs": []
  },
  {
   "cell_type": "code",
   "source": [
    "k = 18\n",
    "\n",
    "x = np.arange(1, k+1)\n",
    "y = exp2_average_ranks_gpt\n",
    "\n",
    "print(\"mean:\")\n",
    "print(round(statistics.mean(y),3))\n",
    "print(\"std:\")\n",
    "std = round(statistics.stdev(y),3)\n",
    "print(std)\n",
    "# Plotting the graph\n",
    "plt.figure(figsize=(10,5))\n",
    "plt.bar(x, y, color=\"plum\")\n",
    "plt.xlabel(\"Fold's Number\")\n",
    "plt.ylabel('Accuracy score')\n",
    "plt.title('Accuracy score by Folds in EXP2 - GPT-1 model')\n",
    "plt.xticks(range(1, 19))\n",
    "plt.grid(True, linestyle='dashed', linewidth = 0.5)\n",
    "plt.show()"
   ],
   "metadata": {
    "colab": {
     "base_uri": "https://localhost:8080/",
     "height": 556
    },
    "id": "yEJ7TZDT1N81",
    "outputId": "94052da1-d6ee-4c06-8e4a-67cd5a030e38",
    "pycharm": {
     "name": "#%%\n"
    }
   },
   "execution_count": 17,
   "outputs": [
    {
     "output_type": "stream",
     "name": "stdout",
     "text": [
      "mean:\n",
      "70.354\n",
      "std:\n",
      "18.751\n"
     ]
    },
    {
     "output_type": "display_data",
     "data": {
      "text/plain": [
       "<Figure size 1000x500 with 1 Axes>"
      ],
      "image/png": "[encoded data removed]"
     },
     "metadata": {}
    }
   ]
  },
  {
   "cell_type": "markdown",
   "source": [
    "#### GPT-2 Model"
   ],
   "metadata": {
    "id": "Ok2HyctAiKTe",
    "pycharm": {
     "name": "#%% md\n"
    }
   }
  },
  {
   "cell_type": "code",
   "source": [
    "# Load the OpenAIGPTModel and tokenizer\n",
    "\n",
    "tokenizer = GPT2Tokenizer.from_pretrained('gpt2')\n",
    "model = GPT2Model.from_pretrained('gpt2')"
   ],
   "metadata": {
    "id": "p2EVupGQiMLM",
    "colab": {
     "base_uri": "https://localhost:8080/",
     "height": 145,
     "referenced_widgets": [
      "44635ca8744e472197d00e1d18bca0b6",
      "e0e9110320144de28a84f641d89e593e",
      "2d86c61f6d814a0ea286918a87d9aa61",
      "4c249f1c0afe40f1b1ca6faf897abc3d",
      "de0164a24ba9461c82abcb5cf46c6116",
      "7e6f7a1e73d44201967955e86daa627f",
      "4aead029eeba45239e94f40ce8489fc3",
      "f7b6d5561d5c4231b2b652d39a69c661",
      "e6c41d9936ca4df796b1db1d450bfc50",
      "001643e6ec5c40f183941ad86fa942d6",
      "dc5a97c00fb64bdf98dafcd7993cb4e1",
      "fa82a3d2a426407cbe2303f9f9f3cee4",
      "db5dacec6c7c4ee1bd28c5bb0f95f9fd",
      "f796d3adae03443db53a741af2bed8bb",
      "425188545f1a425d8b79a8ed7d7f00d8",
      "d045cbc07d9942b29b5e29cb7abf9e8d",
      "628bf13c6e294926830bee637794225e",
      "336aec5f0fe345ba93e53edcd3f25435",
      "b3434e0a23f5475aa4afc083ae6286ac",
      "168a901e90e14c359375188f1b752055",
      "d6e325e233bd4200a8d73d73192bda35",
      "2b8d70c8ea204da4940548d6685680f9",
      "2b73884b49c74607b7ab7aa1dc6f809a",
      "9fa2f27a2c794c789e2b90e6d49b32d3",
      "b83882a101c54fe19e72a0f972d87a15",
      "258ec0a5262943c5b3b23cf943260468",
      "254d844ac9a0460d9e4a19340dfd4ff8",
      "149227af2a424c41834614cbe12eb31a",
      "abd81101755242398e7c6696b3f8e125",
      "b72003db71974832ae9b7cca0ac0bbd6",
      "18c31dfcea1c4e3a901c517715ae310c",
      "cd6b1ce9d66048e5a61453f1c607d313",
      "7355dd2cc7d14766bb17b55cc8c852ab",
      "4bb40d4a81db487db71f463b9600e21a",
      "9c3f90dc3568436faa86a81ac5219f07",
      "e4f8c1dc5c724a709e5be1efd048c4b4",
      "fdacc24192e74b35ba12087b9164002e",
      "1375b1bf28a647d0a9bc1ab091f568a8",
      "0acace93d2d149c5a83866c16cf121c8",
      "d06060b260574115a52026460d6f7c0f",
      "aa9887d143064fb7bebd69bff8e92425",
      "a9a1918ba585476289e868ef44a09294",
      "4fce61a13e7e480192333f014e0363b7",
      "d618e3abf4b442fa9e0e5e5e564a657e"
     ]
    },
    "outputId": "97467efe-2c6a-46e6-86ad-36f3d1bcd094",
    "pycharm": {
     "name": "#%%\n"
    }
   },
   "execution_count": 18,
   "outputs": [
    {
     "output_type": "display_data",
     "data": {
      "text/plain": [
       "Downloading (…)olve/main/vocab.json:   0%|          | 0.00/1.04M [00:00<?, ?B/s]"
      ],
      "application/vnd.jupyter.widget-view+json": {
       "version_major": 2,
       "version_minor": 0,
       "model_id": "44635ca8744e472197d00e1d18bca0b6"
      }
     },
     "metadata": {}
    },
    {
     "output_type": "display_data",
     "data": {
      "text/plain": [
       "Downloading (…)olve/main/merges.txt:   0%|          | 0.00/456k [00:00<?, ?B/s]"
      ],
      "application/vnd.jupyter.widget-view+json": {
       "version_major": 2,
       "version_minor": 0,
       "model_id": "fa82a3d2a426407cbe2303f9f9f3cee4"
      }
     },
     "metadata": {}
    },
    {
     "output_type": "display_data",
     "data": {
      "text/plain": [
       "Downloading (…)lve/main/config.json:   0%|          | 0.00/665 [00:00<?, ?B/s]"
      ],
      "application/vnd.jupyter.widget-view+json": {
       "version_major": 2,
       "version_minor": 0,
       "model_id": "2b73884b49c74607b7ab7aa1dc6f809a"
      }
     },
     "metadata": {}
    },
    {
     "output_type": "display_data",
     "data": {
      "text/plain": [
       "Downloading model.safetensors:   0%|          | 0.00/548M [00:00<?, ?B/s]"
      ],
      "application/vnd.jupyter.widget-view+json": {
       "version_major": 2,
       "version_minor": 0,
       "model_id": "4bb40d4a81db487db71f463b9600e21a"
      }
     },
     "metadata": {}
    }
   ]
  },
  {
   "cell_type": "code",
   "source": [
    "# Tokenize sentences\n",
    "tokenizer.add_special_tokens({'pad_token': '[PAD]'})\n",
    "encoded_input = tokenizer(exp2_sentences, padding=True, truncation=True, return_tensors='pt')\n",
    "model.resize_token_embeddings(len(tokenizer))\n",
    "\n",
    "# Compute token embeddings\n",
    "with torch.no_grad():\n",
    "    model_output = model(**encoded_input)\n",
    "\n",
    "# Perform pooling. In this case, max pooling.\n",
    "sentence_embeddings = mean_pooling(model_output, encoded_input['attention_mask'])\n",
    "sentence_embeddings_arr = np.array(sentence_embeddings)\n",
    "pca = PCA(n_components=300)\n",
    "exp2_vectors_gpt2 = pca.fit_transform(sentence_embeddings_arr)\n"
   ],
   "metadata": {
    "id": "BUoGN5S9iMJP",
    "pycharm": {
     "name": "#%%\n"
    }
   },
   "execution_count": 19,
   "outputs": []
  },
  {
   "cell_type": "code",
   "source": [
    "# Number of folds\n",
    "k = 18\n",
    "\n",
    "# Calculate the number of concepts per fold\n",
    "concepts_per_fold = len(exp2_concepts) // k\n",
    "\n",
    "# Splitting the data into training and test sets according to 18-fold cross-validation\n",
    "exp2_average_ranks_gpt2 = []\n",
    "start = 0\n",
    "end = concepts_per_fold\n",
    "for i in range(k):\n",
    "    test_vectors = exp2_vectors_gpt2[start:end]\n",
    "    test_data = exp2_data[start:end]\n",
    "    test_list = list(range(start, end))\n",
    "    train_list = list(set(range(len(exp2_data))) - set(test_list))\n",
    "\n",
    "    # Train the decoder using the provided code\n",
    "    decoder2_gpt2 = learn_decoder(exp2_data[train_list, :], exp2_vectors_gpt2[train_list, :])\n",
    "\n",
    "    start += concepts_per_fold\n",
    "    end += concepts_per_fold\n",
    "\n",
    "    # Use the decoder to decode semantic vectors\n",
    "    prediction2_gpt2 = np.dot(test_data, decoder2_gpt2)\n",
    "\n",
    "    # Evaluate the accuracy of these decoded vectors\n",
    "    ranks = []\n",
    "    for v, index in enumerate(test_list):\n",
    "        ranks.append(calculate_rank(index, prediction2_gpt2[v], exp2_vectors_gpt2))\n",
    "\n",
    "    exp2_average_ranks_gpt2.append(np.mean(ranks))"
   ],
   "metadata": {
    "id": "VuIz-tOXiMEx",
    "pycharm": {
     "name": "#%%\n"
    }
   },
   "execution_count": 20,
   "outputs": []
  },
  {
   "cell_type": "code",
   "source": [
    "k = 18\n",
    "\n",
    "x = np.arange(1, k+1)\n",
    "y = exp2_average_ranks_gpt2\n",
    "\n",
    "print(\"mean:\")\n",
    "print(round(statistics.mean(y),3))\n",
    "print(\"std:\")\n",
    "std = round(statistics.stdev(y),3)\n",
    "print(std)\n",
    "# Plotting the graph\n",
    "plt.figure(figsize=(10,5))\n",
    "plt.bar(x, y, color=\"sienna\")\n",
    "plt.xlabel(\"Fold's Number\")\n",
    "plt.ylabel('Accuracy score')\n",
    "plt.title('Accuracy score by Folds in EXP2 - GPT-2 model')\n",
    "plt.xticks(range(1, 19))\n",
    "plt.grid(True, linestyle='dashed', linewidth = 0.5)\n",
    "plt.show()"
   ],
   "metadata": {
    "colab": {
     "base_uri": "https://localhost:8080/",
     "height": 556
    },
    "id": "Cj40fjEciMCx",
    "outputId": "5f97a506-0d71-40f4-ca2c-097fc8114a61",
    "pycharm": {
     "name": "#%%\n"
    }
   },
   "execution_count": 21,
   "outputs": [
    {
     "output_type": "stream",
     "name": "stdout",
     "text": [
      "mean:\n",
      "155.159\n",
      "std:\n",
      "17.716\n"
     ]
    },
    {
     "output_type": "display_data",
     "data": {
      "text/plain": [
       "<Figure size 1000x500 with 1 Axes>"
      ],
      "image/png": "[encoded data removed]"
     },
     "metadata": {}
    }
   ]
  },
  {
   "cell_type": "code",
   "source": [
    "# Data for the bar graphs\n",
    "k = 18\n",
    "x = np.arange(1, k+1)\n",
    "\n",
    "# Set the width of each bar\n",
    "bar_width = 0.25\n",
    "\n",
    "# Plotting the bar graphs\n",
    "plt.figure(figsize=(10, 5))\n",
    "plt.bar(x, exp2_average_ranks, label='GloVe', width=bar_width)\n",
    "plt.bar(x + bar_width, exp2_average_ranks_gpt, color='plum', label='GPT-1', width=bar_width)\n",
    "plt.bar(x + 2 * bar_width, exp2_average_ranks_gpt2, color='sienna', label='GPT-2', width=bar_width)\n",
    "\n",
    "plt.xlabel(\"Fold's Number\")\n",
    "plt.ylabel('Accuracy score')\n",
    "plt.title('Comparison of word embedding models in EXP2')\n",
    "plt.xticks(range(1, k + 1))\n",
    "plt.grid(True, linestyle='dashed', linewidth=0.5)\n",
    "plt.legend(loc='upper right')\n",
    "\n",
    "# Adjusting subplot spacing\n",
    "plt.subplots_adjust(wspace=0.5)\n",
    "\n",
    "# Display the combined plot\n",
    "plt.show()\n"
   ],
   "metadata": {
    "colab": {
     "base_uri": "https://localhost:8080/",
     "height": 487
    },
    "id": "tVZdyhTG11kk",
    "outputId": "d52890c6-4949-46ba-c023-284090c227bc",
    "pycharm": {
     "name": "#%%\n"
    }
   },
   "execution_count": 22,
   "outputs": [
    {
     "output_type": "display_data",
     "data": {
      "text/plain": [
       "<Figure size 1000x500 with 1 Axes>"
      ],
      "image/png": "[encoded data removed]"
     },
     "metadata": {}
    }
   ]
  },
  {
   "cell_type": "code",
   "source": [
    "print(\"mean:\")\n",
    "print(f'GloVe Model: {round(statistics.mean(exp2_average_ranks),3)}')\n",
    "print(f'GPT-1 Model: {round(statistics.mean(exp2_average_ranks_gpt),3)}')\n",
    "print(f'GPT-2 Model: {round(statistics.mean(exp2_average_ranks_gpt2),3)}')\n",
    "print()\n",
    "print(\"std:\")\n",
    "print(f'GloVe Model: {round(statistics.stdev(exp2_average_ranks),3)}')\n",
    "print(f'GPT-1 Model: {round(statistics.stdev(exp2_average_ranks_gpt),3)}')\n",
    "print(f'GPT-2 Model: {round(statistics.stdev(exp2_average_ranks_gpt2),3)}')"
   ],
   "metadata": {
    "colab": {
     "base_uri": "https://localhost:8080/"
    },
    "id": "thH0kq7bm3cy",
    "outputId": "eb2e2a2a-f808-4b17-8d1f-e83be72c2b66",
    "pycharm": {
     "name": "#%%\n"
    }
   },
   "execution_count": 23,
   "outputs": [
    {
     "output_type": "stream",
     "name": "stdout",
     "text": [
      "mean:\n",
      "GloVe Model: 132.775\n",
      "GPT-1 Model: 70.354\n",
      "GPT-2 Model: 155.159\n",
      "\n",
      "std:\n",
      "GloVe Model: 20.298\n",
      "GPT-1 Model: 18.751\n",
      "GPT-2 Model: 17.716\n"
     ]
    }
   ]
  },
  {
   "cell_type": "markdown",
   "source": [
    "We can observe that the sentence representation model used in the paper (GloVe model) outperforms GPT-1 but is surpassed by GPT-2.\n",
    "\n",
    "Furthermore, it is evident that GPT-2 significantly outperforms GPT-1, as reflected in its higher accuracy scores. The mean accuracy score of GPT-2 surpasses that of GPT-1, with a value of 155.156 compared to 70.394. In addition, GPT-2 exhibits lower standard deviation in its results compared to GPT-1, with values of 17.721 and 18.752, respectively.\n",
    "\n",
    "Kudos to OpenAI."
   ],
   "metadata": {
    "id": "N1Svw06z8EZ_",
    "pycharm": {
     "name": "#%% md\n"
    }
   }
  },
  {
   "cell_type": "markdown",
   "source": [
    "### Part 2"
   ],
   "metadata": {
    "id": "ReLzOZbbEvTf",
    "pycharm": {
     "name": "#%% md\n"
    }
   }
  },
  {
   "cell_type": "code",
   "source": [
    "def analyze_voxel_predictions(vectors):\n",
    "    r2_scores = []\n",
    "    p_values = []\n",
    "    voxels_num = exp2_data.shape[1]\n",
    "    counter_significant_voxels = 0\n",
    "\n",
    "    # Iterate over voxels\n",
    "    for voxel in range(0, voxels_num, 1000):\n",
    "        # Extract voxel data for the current voxel index\n",
    "        curr_voxel_data = exp2_data[:, voxel]\n",
    "\n",
    "        # Fit a linear regression model using the input vectors and voxel data\n",
    "        linearRegression = LinearRegression()\n",
    "        model = linearRegression.fit(vectors, curr_voxel_data)\n",
    "\n",
    "        # Make predictions using the trained model\n",
    "        predictions = model.predict(vectors)\n",
    "\n",
    "        # Calculate the R^2 score between the voxel data and predictions\n",
    "        r2 = sklearn.metrics.r2_score(curr_voxel_data, predictions)\n",
    "        r2_scores.append(r2)\n",
    "\n",
    "        # Calculate the paired t-test between the predictions and voxel data\n",
    "        t_statistic, p_value = scipy.stats.ttest_rel(model.predict(vectors), curr_voxel_data)\n",
    "        p_values.append(p_value)  # Append the p-value to the list\n",
    "\n",
    "        alpha = 0.05  # Significance level\n",
    "        if p_value < alpha and r2 > 0.1:\n",
    "            counter_significant_voxels += 1\n",
    "\n",
    "    return counter_significant_voxels, r2_scores, p_values\n"
   ],
   "metadata": {
    "id": "khF5PmjAr6hM",
    "pycharm": {
     "name": "#%%\n"
    }
   },
   "execution_count": 24,
   "outputs": []
  },
  {
   "cell_type": "code",
   "source": [
    "# Glove\n",
    "\n",
    "r2_scores_ex2_glove = []\n",
    "p_values_ex2_glove = []\n",
    "significant_voxels_ex2_glove = 0\n",
    "voxels_num = exp2_data.shape[1]\n",
    "\n",
    "# Iterate over voxels\n",
    "for voxel in range(0, voxels_num, 1000):\n",
    "  # Extract voxel data for the current voxel index\n",
    "  curr_voxel_data = exp2_data[:, voxel]\n",
    "\n",
    "  # Fit a linear regression model using the input vectors and voxel data\n",
    "  linearRegression = LinearRegression()\n",
    "  model = linearRegression.fit(exp2_vectors, curr_voxel_data)\n",
    "\n",
    "  # Make predictions using the trained model\n",
    "  predictions = model.predict(exp2_vectors)\n",
    "\n",
    "  # Calculate the R^2 score between the voxel data and predictions\n",
    "  r2 = sklearn.metrics.r2_score(curr_voxel_data, predictions)\n",
    "  r2_scores_ex2_glove.append(r2)\n",
    "\n",
    "  # Calculate the paired t-test between the predictions and voxel data\n",
    "  t_statistic, p_value = scipy.stats.ttest_rel(model.predict(exp2_vectors), curr_voxel_data)\n",
    "  p_values_ex2_glove.append(p_value)  # Append the p-value to the list\n",
    "\n",
    "  alpha = 0.05  # Significance level\n",
    "  if p_value < alpha and r2 > 0.1:\n",
    "      significant_voxels_ex2_glove += 1\n"
   ],
   "metadata": {
    "id": "7lI377URi23S",
    "pycharm": {
     "name": "#%%\n"
    }
   },
   "execution_count": 25,
   "outputs": []
  },
  {
   "cell_type": "code",
   "source": [
    "# GPT-1\n",
    "\n",
    "r2_scores_ex2_gpt = []\n",
    "p_values_ex2_gpt = []\n",
    "significant_voxels_ex2_gpt = 0\n",
    "voxels_num = exp2_data.shape[1]\n",
    "\n",
    "# Iterate over voxels\n",
    "for voxel in range(0, voxels_num, 1000):\n",
    "  # Extract voxel data for the current voxel index\n",
    "  curr_voxel_data = exp2_data[:, voxel]\n",
    "\n",
    "  # Fit a linear regression model using the input vectors and voxel data\n",
    "  linearRegression = LinearRegression()\n",
    "  model = linearRegression.fit(exp2_vectors_gpt, curr_voxel_data)\n",
    "\n",
    "  # Make predictions using the trained model\n",
    "  predictions = model.predict(exp2_vectors_gpt)\n",
    "\n",
    "  # Calculate the R^2 score between the voxel data and predictions\n",
    "  r2 = sklearn.metrics.r2_score(curr_voxel_data, predictions)\n",
    "  r2_scores_ex2_gpt.append(r2)\n",
    "\n",
    "  # Calculate the paired t-test between the predictions and voxel data\n",
    "  t_statistic, p_value = scipy.stats.ttest_rel(model.predict(exp2_vectors_gpt), curr_voxel_data)\n",
    "  p_values_ex2_gpt.append(p_value)  # Append the p-value to the list\n",
    "\n",
    "  alpha = 0.05  # Significance level\n",
    "  if p_value < alpha and r2 > 0.1:\n",
    "      significant_voxels_ex2_gpt += 1"
   ],
   "metadata": {
    "id": "5xqTu6Jyj0J2",
    "pycharm": {
     "name": "#%%\n"
    }
   },
   "execution_count": 26,
   "outputs": []
  },
  {
   "cell_type": "code",
   "source": [
    "# GPT-2\n",
    "\n",
    "r2_scores_ex2_gpt2 = []\n",
    "p_values_ex2_gpt2 = []\n",
    "significant_voxels_ex2_gpt2 = 0\n",
    "voxels_num = exp2_data.shape[1]\n",
    "\n",
    "# Iterate over voxels\n",
    "for voxel in range(0, voxels_num, 1000):\n",
    "  # Extract voxel data for the current voxel index\n",
    "  curr_voxel_data = exp2_data[:, voxel]\n",
    "\n",
    "  # Fit a linear regression model using the input vectors and voxel data\n",
    "  linearRegression = LinearRegression()\n",
    "  model = linearRegression.fit(exp2_vectors_gpt2, curr_voxel_data)\n",
    "\n",
    "  # Make predictions using the trained model\n",
    "  predictions = model.predict(exp2_vectors_gpt2)\n",
    "\n",
    "  # Calculate the R^2 score between the voxel data and predictions\n",
    "  r2 = sklearn.metrics.r2_score(curr_voxel_data, predictions)\n",
    "  r2_scores_ex2_gpt2.append(r2)\n",
    "\n",
    "  # Calculate the paired t-test between the predictions and voxel data\n",
    "  t_statistic, p_value = scipy.stats.ttest_rel(model.predict(exp2_vectors_gpt2), curr_voxel_data)\n",
    "  p_values_ex2_gpt2.append(p_value)  # Append the p-value to the list\n",
    "\n",
    "  alpha = 0.05  # Significance level\n",
    "  if p_value < alpha and r2 > 0.1:\n",
    "      significant_voxels_ex2_gpt2 += 1"
   ],
   "metadata": {
    "id": "G4BWfzp2kOXR",
    "pycharm": {
     "name": "#%%\n"
    }
   },
   "execution_count": 27,
   "outputs": []
  },
  {
   "cell_type": "markdown",
   "source": [
    "For each voxel/model, let's calculate the mean R^2 score and examine how many voxels are significantly associated with the information embedded in the word vectors.\n"
   ],
   "metadata": {
    "id": "R8k9u9N0ZTL5",
    "pycharm": {
     "name": "#%% md\n"
    }
   }
  },
  {
   "cell_type": "code",
   "source": [
    "r2_means_arr = [np.mean(r2_scores_ex2_glove), np.mean(r2_scores_ex2_gpt), np.mean(r2_scores_ex2_gpt2)]\n",
    "r2_scores_arr = r2_scores_ex2_glove + r2_scores_ex2_gpt + r2_scores_ex2_gpt2\n",
    "labels_arr = ['GloVe', 'GPT-1', 'GPT-2']\n",
    "group_labels = ['GloVe'] * len(r2_scores_ex2_glove) + ['GPT-1'] * len(r2_scores_ex2_gpt) + ['GPT-2'] * len(r2_scores_ex2_gpt2)"
   ],
   "metadata": {
    "id": "mf0Dxg9FjdBk",
    "pycharm": {
     "name": "#%%\n"
    }
   },
   "execution_count": 28,
   "outputs": []
  },
  {
   "cell_type": "code",
   "source": [
    "print(\"Mean R^2 scores:\")\n",
    "print(f'GloVe Model: {round(r2_means_arr[0],3)}')\n",
    "print(f'GPT-1 Model: {round(r2_means_arr[1],3)}')\n",
    "print(f'GPT-2 Model: {round(r2_means_arr[2],3)}')\n",
    "print()\n",
    "print(\"Number of significantly associated voxels:\")\n",
    "print(f'GloVe Model: {significant_voxels_ex2_glove}')\n",
    "print(f'GPT-1 Model: {significant_voxels_ex2_gpt}')\n",
    "print(f'GPT-2 Model: {significant_voxels_ex2_gpt2}')"
   ],
   "metadata": {
    "colab": {
     "base_uri": "https://localhost:8080/"
    },
    "id": "yejbxSxPYQSS",
    "outputId": "a7d314a3-c7ac-4648-ac7f-3a59101d0671",
    "pycharm": {
     "name": "#%%\n"
    }
   },
   "execution_count": 29,
   "outputs": [
    {
     "output_type": "stream",
     "name": "stdout",
     "text": [
      "Mean R^2 scores:\n",
      "GloVe Model: 0.802\n",
      "GPT-1 Model: 0.813\n",
      "GPT-2 Model: 0.813\n",
      "\n",
      "Number of significantly associated voxels:\n",
      "GloVe Model: 0\n",
      "GPT-1 Model: 0\n",
      "GPT-2 Model: 0\n"
     ]
    }
   ]
  },
  {
   "cell_type": "markdown",
   "source": [
    "Let's examine how well those voxels were predicted"
   ],
   "metadata": {
    "id": "N-2iZDohZ9fx",
    "pycharm": {
     "name": "#%% md\n"
    }
   }
  },
  {
   "cell_type": "code",
   "source": [
    "# Convert p-values lists to numpy arrays\n",
    "p_values_ex2_glove = np.array(p_values_ex2_glove)\n",
    "p_values_ex2_gpt = np.array(p_values_ex2_gpt)\n",
    "p_values_ex2_gpt2 = np.array(p_values_ex2_gpt2)\n",
    "\n",
    "# Number of significantly associated voxels\n",
    "num_significant_glove = np.sum(p_values_ex2_glove < 0.05)\n",
    "num_significant_gpt = np.sum(p_values_ex2_gpt < 0.05)\n",
    "num_significant_gpt2 = np.sum(p_values_ex2_gpt2 < 0.05)\n",
    "\n",
    "significantly_voxels_arr = [num_significant_glove, num_significant_gpt, num_significant_gpt2]"
   ],
   "metadata": {
    "id": "fyLpxHSgZ9wy",
    "pycharm": {
     "name": "#%%\n"
    }
   },
   "execution_count": 30,
   "outputs": []
  },
  {
   "cell_type": "code",
   "source": [
    "# Comparision of the significantly associated voxels per model\n",
    "\n",
    "fig, axes = plt.subplots(1, 1)\n",
    "\n",
    "palette = ['tab:blue', 'plum', 'sienna']\n",
    "sns.lineplot(x=labels_arr, y=significantly_voxels_arr, color='black')\n",
    "sns.pointplot(x=labels_arr, y=significantly_voxels_arr, palette=palette)\n",
    "\n",
    "axes.set_title('Significantly associated voxels per Model')\n",
    "axes.set_ylabel('Number of voxels')\n"
   ],
   "metadata": {
    "colab": {
     "base_uri": "https://localhost:8080/",
     "height": 469
    },
    "id": "0oCf5ViHbZft",
    "outputId": "43bc37c3-cfd6-4a15-9edb-247252fa1a07",
    "pycharm": {
     "name": "#%%\n"
    }
   },
   "execution_count": 38,
   "outputs": [
    {
     "output_type": "execute_result",
     "data": {
      "text/plain": [
       "Text(0, 0.5, 'Number of voxels')"
      ]
     },
     "metadata": {},
     "execution_count": 38
    },
    {
     "output_type": "display_data",
     "data": {
      "text/plain": [
       "<Figure size 640x480 with 1 Axes>"
      ],
      "image/png": "[encoded data removed]"
     },
     "metadata": {}
    }
   ]
  },
  {
   "cell_type": "markdown",
   "source": [
    "We will take a look to the R^2 scores and the P-Values such as we did in tutorial 3 about \"Statistical inference\":"
   ],
   "metadata": {
    "id": "QzDZIneNiA7B",
    "pycharm": {
     "name": "#%% md\n"
    }
   }
  },
  {
   "cell_type": "code",
   "source": [
    "# Comparison of the Mean R^2 Scores per model\n",
    "\n",
    "fig, axes = plt.subplots(1, 1)\n",
    "\n",
    "palette = ['tab:blue', 'plum', 'sienna']\n",
    "sns.lineplot(x=labels_arr, y=r2_means_arr, color='black')\n",
    "sns.pointplot(x=labels_arr, y=r2_means_arr, palette=palette)\n",
    "\n",
    "axes.set_title('Mean R^2 Scores per Model')\n",
    "axes.set_ylabel('Mean R^2 Score')\n"
   ],
   "metadata": {
    "colab": {
     "base_uri": "https://localhost:8080/",
     "height": 469
    },
    "id": "DzPzq6JeanLW",
    "outputId": "571d2ddd-182f-4b1e-c4cd-b31d4c2e22d2",
    "pycharm": {
     "name": "#%%\n"
    }
   },
   "execution_count": 32,
   "outputs": [
    {
     "output_type": "execute_result",
     "data": {
      "text/plain": [
       "Text(0, 0.5, 'Mean R^2 Score')"
      ]
     },
     "metadata": {},
     "execution_count": 32
    },
    {
     "output_type": "display_data",
     "data": {
      "text/plain": [
       "<Figure size 640x480 with 1 Axes>"
      ],
      "image/png": "[encoded data removed]"
     },
     "metadata": {}
    }
   ]
  },
  {
   "cell_type": "code",
   "source": [
    "# Comparing the Distributions of R^2 Scores per Model\n",
    "\n",
    "_, axes = plt.subplots(1, 1, figsize=(10, 5))\n",
    "\n",
    "palette = ['tab:blue', 'plum', 'sienna']\n",
    "\n",
    "sns.stripplot(x=r2_scores_arr, y=group_labels, jitter=True, palette=palette, linewidth=1,edgecolor='gray', alpha=0.5 , orient='h')\n",
    "sns.boxplot(x=r2_scores_arr, y=group_labels, palette=palette,fliersize=0 , orient='h')\n",
    "\n",
    "axes.set_title('Distributions of R^2 scores')\n",
    "axes.set_xlabel('R^2 score')\n"
   ],
   "metadata": {
    "colab": {
     "base_uri": "https://localhost:8080/",
     "height": 539
    },
    "id": "TDIGfffOHhXF",
    "outputId": "79b1e30f-0356-4bfe-d848-5c9ed0ea5e58",
    "pycharm": {
     "name": "#%%\n"
    }
   },
   "execution_count": 33,
   "outputs": [
    {
     "output_type": "stream",
     "name": "stderr",
     "text": [
      "<ipython-input-33-0fbdce96d8fe>:7: FutureWarning: Passing `palette` without assigning `hue` is deprecated.\n",
      "  sns.stripplot(x=r2_scores_arr, y=group_labels, jitter=True, palette=palette, linewidth=1,edgecolor='gray', alpha=0.5 , orient='h')\n"
     ]
    },
    {
     "output_type": "execute_result",
     "data": {
      "text/plain": [
       "Text(0.5, 0, 'R^2 score')"
      ]
     },
     "metadata": {},
     "execution_count": 33
    },
    {
     "output_type": "display_data",
     "data": {
      "text/plain": [
       "<Figure size 1000x500 with 1 Axes>"
      ],
      "image/png": "[encoded data removed]"
     },
     "metadata": {}
    }
   ]
  },
  {
   "cell_type": "markdown",
   "source": [
    "Now, we will calculate confidence intervals for the mean R^2 in each model with confidence level of 0.9:"
   ],
   "metadata": {
    "id": "VXt-Vwq5WIey",
    "pycharm": {
     "name": "#%% md\n"
    }
   }
  },
  {
   "cell_type": "code",
   "source": [
    "r2_scores_ex2_glove_mean_CI = scipy.stats.bootstrap((r2_scores_ex2_glove,), np.mean, confidence_level=0.9).confidence_interval\n",
    "r2_scores_ex2_gpt_mean_CI = scipy.stats.bootstrap((r2_scores_ex2_gpt,), np.mean, confidence_level=0.9).confidence_interval\n",
    "r2_scores_ex2_gpt2_mean_CI = scipy.stats.bootstrap((r2_scores_ex2_gpt2,), np.mean, confidence_level=0.9).confidence_interval\n",
    "\n",
    "print('Confidence Intervals for the mean R^2: ')\n",
    "print(f'GloVe: {r2_scores_ex2_glove_mean_CI}')\n",
    "print(f'GPT-1: {r2_scores_ex2_gpt_mean_CI}')\n",
    "print(f'GPT-2: {r2_scores_ex2_gpt2_mean_CI}')"
   ],
   "metadata": {
    "colab": {
     "base_uri": "https://localhost:8080/"
    },
    "id": "Pm57g8SjVN6V",
    "outputId": "d7fd4cd9-1169-4946-b323-46be67401bac",
    "pycharm": {
     "name": "#%%\n"
    }
   },
   "execution_count": 34,
   "outputs": [
    {
     "output_type": "stream",
     "name": "stdout",
     "text": [
      "Confidence Intervals for the mean R^2: \n",
      "GloVe: ConfidenceInterval(low=0.7983735710722256, high=0.8058356144969091)\n",
      "GPT-1: ConfidenceInterval(low=0.8101787002379147, high=0.8162488888173407)\n",
      "GPT-2: ConfidenceInterval(low=0.8098750320143159, high=0.8162793182319829)\n"
     ]
    }
   ]
  },
  {
   "cell_type": "code",
   "source": [
    "# Comparison of the Mean R^2 Scores and the Mean accuracy score per Model\n",
    "\n",
    "mean_ranks_arr = [statistics.mean(exp2_average_ranks), statistics.mean(exp2_average_ranks_gpt), statistics.mean(exp2_average_ranks_gpt2)]\n",
    "\n",
    "colors = ['tab:blue', 'plum', 'sienna']\n",
    "\n",
    "plt.scatter(mean_ranks_arr, r2_means_arr, c=colors)\n",
    "plt.xlabel('Mean Accuracy score')\n",
    "plt.ylabel('Mean R^2 Score')\n",
    "\n",
    "plt.title('Comparing Mean R^2 Scores with Mean Accuracy scores')\n",
    "for i, label in enumerate(labels_arr):\n",
    "    plt.annotate(label, (mean_ranks_arr[i], r2_means_arr[i]))\n",
    "\n"
   ],
   "metadata": {
    "colab": {
     "base_uri": "https://localhost:8080/",
     "height": 472
    },
    "id": "HL2IGNK-oHRW",
    "outputId": "bae766f6-2a2e-4121-c403-e5d71ee6c84f",
    "pycharm": {
     "name": "#%%\n"
    }
   },
   "execution_count": 35,
   "outputs": [
    {
     "output_type": "display_data",
     "data": {
      "text/plain": [
       "<Figure size 640x480 with 1 Axes>"
      ],
      "image/png": "[encoded data removed]"
     },
     "metadata": {}
    }
   ]
  },
  {
   "cell_type": "code",
   "source": [
    "# Comparison of the R^2 Scores and the p-value scores per Model\n",
    "\n",
    "fig, axes = plt.subplots(2, 2, figsize=(10, 10))\n",
    "\n",
    "# Plot for GloVe representations\n",
    "axes[0, 0].scatter(p_values_ex2_glove, r2_scores_ex2_glove, s=10, color=colors[0])\n",
    "axes[0, 0].set_xlabel('p-values')\n",
    "axes[0, 0].set_ylabel('R^2 scores')\n",
    "axes[0, 0].set_title('GloVe Sentence Representations')\n",
    "\n",
    "# Plot for GPT-1 sentence representations\n",
    "axes[0, 1].scatter(p_values_ex2_gpt, r2_scores_ex2_gpt, s=10, color=colors[1])\n",
    "axes[0, 1].set_xlabel('p-values')\n",
    "axes[0, 1].set_ylabel('R^2 scores')\n",
    "axes[0, 1].set_title('GPT-1 Sentence Representations')\n",
    "\n",
    "# Plot for GPT-2 sentence representations\n",
    "axes[1, 0].scatter(p_values_ex2_gpt2, r2_scores_ex2_gpt2, s=10, color=colors[2])\n",
    "axes[1, 0].set_xlabel('p-values')\n",
    "axes[1, 0].set_ylabel('R^2 scores')\n",
    "axes[1, 0].set_title('GPT-2 Sentence Representations')\n",
    "\n",
    "# Additional plots can be added as needed\n",
    "\n",
    "# Adjust the spacing between subplots\n",
    "fig.tight_layout()\n",
    "\n",
    "# Show the plot\n",
    "plt.show()"
   ],
   "metadata": {
    "colab": {
     "base_uri": "https://localhost:8080/",
     "height": 1000
    },
    "id": "ZPkyuyjmNHlq",
    "outputId": "9ae1a37e-428b-40e7-bd1f-2cfa0cc3b9cb",
    "pycharm": {
     "name": "#%%\n"
    }
   },
   "execution_count": 36,
   "outputs": [
    {
     "output_type": "display_data",
     "data": {
      "text/plain": [
       "<Figure size 1000x1000 with 4 Axes>"
      ],
      "image/png": "[encoded data removed]"
     },
     "metadata": {}
    }
   ]
  },
  {
   "cell_type": "code",
   "source": [
    "p_values_ex2_glove_mean_CI = scipy.stats.bootstrap((p_values_ex2_glove,), np.mean, confidence_level=0.9).confidence_interval\n",
    "p_values_ex2_gpt_mean_CI = scipy.stats.bootstrap((p_values_ex2_gpt,), np.mean, confidence_level=0.9).confidence_interval\n",
    "p_values_ex2_gpt2_mean_CI = scipy.stats.bootstrap((p_values_ex2_gpt2,), np.mean, confidence_level=0.9).confidence_interval\n",
    "\n",
    "print('Confidence Intervals for the mean P-Value: ')\n",
    "print(f'GloVe: {p_values_ex2_glove_mean_CI}')\n",
    "print(f'GPT-1: {p_values_ex2_gpt_mean_CI}')\n",
    "print(f'GPT-2: {p_values_ex2_gpt2_mean_CI}')"
   ],
   "metadata": {
    "colab": {
     "base_uri": "https://localhost:8080/"
    },
    "id": "17eXLxEugeCI",
    "outputId": "71645157-2ffa-4158-fc2b-e63aa936705a",
    "pycharm": {
     "name": "#%%\n"
    }
   },
   "execution_count": 37,
   "outputs": [
    {
     "output_type": "stream",
     "name": "stdout",
     "text": [
      "Confidence Intervals for the mean P-Value: \n",
      "GloVe: ConfidenceInterval(low=0.9999999999999394, high=0.9999999999999504)\n",
      "GPT-1: ConfidenceInterval(low=0.9999991504442773, high=0.999999400564874)\n",
      "GPT-2: ConfidenceInterval(low=0.9999991421180766, high=0.9999993792018596)\n"
     ]
    }
   ]
  }
 ]
}